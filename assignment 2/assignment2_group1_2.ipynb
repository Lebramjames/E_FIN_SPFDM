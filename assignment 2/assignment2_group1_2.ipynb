{
 "cells": [
  {
   "cell_type": "code",
   "execution_count": 3,
   "metadata": {},
   "outputs": [],
   "source": [
    "from  scipy.stats  import norm\n",
    "import numpy as np"
   ]
  },
  {
   "cell_type": "markdown",
   "metadata": {},
   "source": [
    "Exercise 10 (Stochastic volatility). Choose one of the models, Heston or\n",
    "SABR. Simulate the paths to maturity T = 1 year.\n",
    "1. Plot a single path and look if you can observe a volatility clustering.\n",
    "2. Plot histograms of log-returns and compare them to the normal distribution with the same mean and variance. Observe the skewness and fat\n",
    "tails."
   ]
  },
  {
   "cell_type": "markdown",
   "metadata": {},
   "source": [
    "Heston model describes a model where the evolution of a the volatility of an underlyin g essat is NOT constant, nor even deterministic, but follows a random process. \n",
    "\n"
   ]
  },
  {
   "cell_type": "code",
   "execution_count": 1,
   "metadata": {},
   "outputs": [],
   "source": [
    "# HESTON model: \n",
    "\n",
    "def heston_sde_stock(S0, mu, variance, delta_t, xi, n_sim):\n",
    "    \n",
    "    wiener_samples = np.random.randn(n_sim)\n",
    "\n",
    "    pricing_asset = mu * S0 * delta_t + np.sqrt(variance) * S0 * wiener_samples\n",
    "    return \n",
    "\n",
    "\n",
    "def heston_sde_variance(kappa, theta, variance, delta_t, xi_param):\n",
    "    \"\"\"\n",
    "    instantaneous variance, given by CIR process (Feller square root)\n",
    "    \"\"\"\n",
    "    wiener_samples = np.random.randn\n",
    "    delta_variance = kapp* (theta - vt) * delta_t + xi_param * np.sqrt(variance) * \n",
    "    \n",
    "    return \n",
    "\n",
    "def montecarlo_heston(n_sim):\n",
    "    \n",
    "    for i in range(n_sim):\n",
    "\n",
    "\n",
    "    return \n",
    "\n",
    "S0 = 100\n",
    "rf_rate = 0.04/12\n",
    "variance = 0.045\n",
    "from  scipy.stats  import norm\n",
    "\n",
    "\n",
    "kappa = 1\n",
    "theta = 10\n",
    "T = 1 #maturity"
   ]
  }
 ],
 "metadata": {
  "kernelspec": {
   "display_name": "base",
   "language": "python",
   "name": "python3"
  },
  "language_info": {
   "codemirror_mode": {
    "name": "ipython",
    "version": 3
   },
   "file_extension": ".py",
   "mimetype": "text/x-python",
   "name": "python",
   "nbconvert_exporter": "python",
   "pygments_lexer": "ipython3",
   "version": "3.9.13"
  }
 },
 "nbformat": 4,
 "nbformat_minor": 2
}
