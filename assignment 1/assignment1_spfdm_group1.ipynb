{
 "cells": [
  {
   "cell_type": "code",
   "execution_count": 200,
   "metadata": {},
   "outputs": [],
   "source": [
    "# https://canvas.vu.nl/courses/72644/files/folder/Assignments\n",
    "import pandas as pd\n",
    "import numpy as np\n",
    "import matplotlib.pyplot as plt\n",
    "import requests\n",
    "from scipy.interpolate import interp1d\n"
   ]
  },
  {
   "cell_type": "markdown",
   "metadata": {},
   "source": [
    "## Part 1: IRS"
   ]
  },
  {
   "cell_type": "code",
   "execution_count": 204,
   "metadata": {},
   "outputs": [],
   "source": [
    "usbond_df = pd.read_excel('data/usbond_data.xlsx')\n",
    "bondtest_data = pd.read_excel('data/bondtest_data.xlsx')\n",
    "european_zerorates = pd.read_excel('data/european_zerorates.xlsx')\n",
    "european_zerorates = european_zerorates.set_index('Maturity')\n",
    "european_zerorates =  european_zerorates['AAA rated']"
   ]
  },
  {
   "cell_type": "code",
   "execution_count": 206,
   "metadata": {},
   "outputs": [],
   "source": [
    "def get_euribordata():\n",
    "\n",
    "    url = \"https://euribor.p.rapidapi.com/all\"\n",
    "\n",
    "    headers = {\n",
    "        \"X-RapidAPI-Key\": \"46bc3a6f18mshb2d07e9eb01ef29p1c2d78jsn578089492ef1\",\n",
    "        \"X-RapidAPI-Host\": \"euribor.p.rapidapi.com\"\n",
    "    }\n",
    "\n",
    "    EURIBOR = requests.get(url, headers=headers).json()\n",
    "    \n",
    "    euribor_rates = {\n",
    "        '3months': EURIBOR['3months'],\n",
    "        '6months': EURIBOR['6months'],\n",
    "        '12months': EURIBOR['12months']\n",
    "    }\n",
    "    return euribor_rates"
   ]
  },
  {
   "cell_type": "code",
   "execution_count": 205,
   "metadata": {},
   "outputs": [],
   "source": [
    "def calculate_cash_flows(notional, start_date, end_date, payment_frequency, fixed_rate, zero_rates):\n",
    "    # Determine payment dates based on payment frequency\n",
    "    payment_dates = pd.date_range(start=start_date, end=end_date, freq='6M')\n",
    "\n",
    "    cash_flows_fixed = []  # Cash flows for fixed-rate leg\n",
    "    cash_flows_floating = []  # Cash flows for floating-rate leg\n",
    "    \n",
    "    for i in range(len(payment_dates)):\n",
    "        if i == 0:\n",
    "            # Initial notional exchange on the start date\n",
    "            cash_flows_fixed.append(notional)\n",
    "            cash_flows_floating.append(-notional)\n",
    "        else:\n",
    "            # Calculate fixed-rate cash flow\n",
    "            fixed_cash_flow = notional * fixed_rate * payment_frequency\n",
    "            cash_flows_fixed.append(fixed_cash_flow)\n",
    "            \n",
    "            # Calculate floating-rate cash flow based on the zero rates\n",
    "            start_date = payment_dates[i - 1]\n",
    "            end_date = payment_dates[i]\n",
    "            ttm = (end_date - start_date).days / 365.0  # Time to maturity\n",
    "            \n",
    "            # Find the corresponding zero rate from the dictionary\n",
    "            zero_rate = zero_rates.get(ttm, 0.0)  # Default to 0 if not found\n",
    "            floating_cash_flow = notional * zero_rate * payment_frequency\n",
    "            cash_flows_floating.append(floating_cash_flow)\n",
    "    \n",
    "    return cash_flows_fixed, cash_flows_floating"
   ]
  },
  {
   "cell_type": "code",
   "execution_count": 208,
   "metadata": {},
   "outputs": [
    {
     "data": {
      "text/plain": [
       "20.99392855509883"
      ]
     },
     "execution_count": 208,
     "metadata": {},
     "output_type": "execute_result"
    }
   ],
   "source": [
    "def get_floating_discount_rates(payment_frequency, euribor_rates):\n",
    "    # Initialize an empty list to store the floating discount rates\n",
    "    floating_discount_rates = []\n",
    "    \n",
    "    for tenor, rate in euribor_rates.items():\n",
    "        # Calculate the corresponding discount rate for each Euribor rate\n",
    "        discount_rate = 1 / ((1 + rate) ** (1/payment_frequency))\n",
    "        floating_discount_rates.append(discount_rate)\n",
    "    \n",
    "    return floating_discount_rates\n",
    "\n",
    "def determine_discount_rate(payment_frequency, yield_curve, one_curve=True):\n",
    "    if one_curve:\n",
    "        zero_rates = yield_curve['zero_rate']\n",
    "        if payment_frequency == 0.5:\n",
    "            return zero_rates\n",
    "        elif payment_frequency == 1.0:\n",
    "            interpolated_rates = np.interp(np.arange(0.5, max(zero_rates.keys()) + 0.5, 0.5), list(zero_rates.keys()), zero_rates.values())\n",
    "            return interpolated_rates\n",
    "        else:\n",
    "            raise ValueError(\"Unsupported payment frequency. Only 0.5 (semi-annual) and 1.0 (annual) are supported.\")\n",
    "    else:\n",
    "        # In the two-curve scenario, you can access the Euribor data from the yield_curve dictionary\n",
    "        euribor_rates = yield_curve['euribor']\n",
    "        # Implement the logic to determine floating discount rates based on Euribor or other relevant curve\n",
    "        # This will depend on your specific data and requirements.\n",
    "        # For example:\n",
    "        floating_discount_rates = get_floating_discount_rates(payment_frequency, euribor_rates)\n",
    "        return yield_curve['zero_rate'], floating_discount_rates\n",
    "    \n",
    "\n",
    "def value_interest_rate_swap(zero_rate, notional, start_date, end_date, payment_frequency, fixed_rate, swap_type='fixed_vs_floating', amortization_schedule=None, one_curve = True):\n",
    "    \n",
    "    yield_curve = {}\n",
    "    # Retrieve data: \n",
    "    # yield_curve['zero_rate'] = bootstrap_yield_curve(df, payment_frequency)\n",
    "\n",
    "    yield_curve['zero_rate'] = zero_rate\n",
    "    yield_curve['euribor'] = get_euribordata()\n",
    "\n",
    "    if one_curve == True: \n",
    "        discount_rates = determine_discount_rate(payment_frequency, yield_curve, one_curve=True)\n",
    "        fixed_cash_flows, floating_cash_flows = calculate_cash_flows(notional, start_date, end_date, payment_frequency, fixed_rate, yield_curve)\n",
    "    else:\n",
    "        discount_rates = determine_discount_rate(payment_frequency, yield_curve, one_curve=False)\n",
    "    \n",
    "    npv_value = 0\n",
    "    for i, (cf, dr) in enumerate(zip(fixed_cash_flows, discount_rates)):\n",
    "        npv_value += cf / ((1 + dr) ** (i + 1))    \n",
    "    \n",
    "    \n",
    "    return npv_value\n",
    "\n",
    "\n",
    "notional_amount = 100\n",
    "start_date = pd.to_datetime('2023-01-01')\n",
    "end_date = pd.to_datetime('2030-01-01')\n",
    "payment_frequency = 0.5  # Semi-annual payments\n",
    "fixed_rate = 0.03  # 3% fixed rate\n",
    "\n",
    "npv = value_interest_rate_swap(european_zerorates, notional_amount, start_date, end_date, payment_frequency, fixed_rate)\n",
    "npv   "
   ]
  },
  {
   "cell_type": "markdown",
   "metadata": {},
   "source": [
    "## Bootstrap method: \n",
    "- Currently not sure which bonds to use to find zero rates"
   ]
  },
  {
   "cell_type": "code",
   "execution_count": 145,
   "metadata": {},
   "outputs": [],
   "source": [
    "def bootstrap_yield_curve(df, payments_per_year):\n",
    "    \"\"\"\"\n",
    "    Bootstrap method to determine the zero curve     \n",
    "    \"\"\"\n",
    "\n",
    "    zero_rates = {}\n",
    "\n",
    "    for index, bond in df.iterrows():\n",
    "        TTM = bond['Time to Maturity']\n",
    "        price = bond['Bond price']\n",
    "        principle = bond['Bond Principal']\n",
    "        coupon_rate = bond['Coupon per year'] * payments_per_year\n",
    "\n",
    "        if coupon_rate == 0:\n",
    "            # Zero-coupon bond\n",
    "            zero_rate = -np.log(price / principle) * 1 / TTM\n",
    "        else:\n",
    "            # Coupon-bearing bond\n",
    "            total_discounted_cash_flow = []\n",
    "            for t in np.arange(0.5, TTM + 0.5, 0.5):\n",
    "                cash_flow = coupon_rate\n",
    "\n",
    "                if t in zero_rates:\n",
    "                    discount_factor = np.exp(-zero_rates[t] * t)\n",
    "                    total_discounted_cash_flow.append(cash_flow * discount_factor)\n",
    "\n",
    "            coupon_payment = np.sum(total_discounted_cash_flow)\n",
    "\n",
    "            zero_rate = -np.log((price - coupon_payment) / (principle + coupon_rate)) * (1 / TTM)\n",
    "\n",
    "        zero_rates[TTM] = zero_rate\n",
    "        df.loc[index, 'zero_rate'] = zero_rate\n",
    "\n",
    "    return zero_rates"
   ]
  },
  {
   "cell_type": "code",
   "execution_count": 210,
   "metadata": {},
   "outputs": [
    {
     "data": {
      "text/plain": [
       "{0.5: 0.10469296074441824,\n",
       " 1.0: 0.10536051565782628,\n",
       " 1.5: 0.10680926388170528,\n",
       " 2.0: 0.10808027549746793}"
      ]
     },
     "execution_count": 210,
     "metadata": {},
     "output_type": "execute_result"
    }
   ],
   "source": [
    "bootstrap_yield_curve(bondtest_data, 0.5)"
   ]
  }
 ],
 "metadata": {
  "kernelspec": {
   "display_name": "base",
   "language": "python",
   "name": "python3"
  },
  "language_info": {
   "codemirror_mode": {
    "name": "ipython",
    "version": 3
   },
   "file_extension": ".py",
   "mimetype": "text/x-python",
   "name": "python",
   "nbconvert_exporter": "python",
   "pygments_lexer": "ipython3",
   "version": "3.9.13"
  }
 },
 "nbformat": 4,
 "nbformat_minor": 2
}
