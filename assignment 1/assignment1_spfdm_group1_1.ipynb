{
 "cells": [
  {
   "cell_type": "code",
   "execution_count": 1,
   "metadata": {},
   "outputs": [],
   "source": [
    "# https://canvas.vu.nl/courses/72644/files/folder/Assignments\n",
    "import pandas as pd\n",
    "import numpy as np\n",
    "import matplotlib.pyplot as plt\n",
    "import requests\n",
    "from scipy.interpolate import interp1d"
   ]
  },
  {
   "cell_type": "markdown",
   "metadata": {},
   "source": [
    "## Part 1: IRS"
   ]
  },
  {
   "cell_type": "code",
   "execution_count": 2,
   "metadata": {},
   "outputs": [],
   "source": [
    "def standardized_maturities(zero_rates):\n",
    "    \"\"\"\n",
    "    Standardize maturity indices for ECB data to yearly scaled indices.\n",
    "\n",
    "    Parameters:\n",
    "        zero_rates (pd.Series): Pandas Series containing zero rates with maturity indices.\n",
    "\n",
    "    Returns:\n",
    "        list: A list of standardized maturity values in years.\n",
    "\n",
    "    This function standardizes the maturity indices provided in the ECB data to yearly scaled indices. It processes each\n",
    "    maturity index, which can be in the format \"X months\" or \"X years,\" and converts them into a yearly scale for\n",
    "    consistent handling.\n",
    "    \"\"\"\n",
    "    standardized_maturities = []\n",
    "    for maturity in zero_rates.index:\n",
    "        if 'month' in maturity:\n",
    "            num_months = int(maturity.split()[0])\n",
    "            standardized_maturities.append(num_months / 12.0)\n",
    "        elif 'year' in maturity:\n",
    "            num_years = int(maturity.split()[0])\n",
    "            standardized_maturities.append(num_years)\n",
    "        else:\n",
    "            raise ValueError(f\"Unrecognized maturity format: {maturity}\")\n",
    "    return standardized_maturities\n"
   ]
  },
  {
   "cell_type": "code",
   "execution_count": 44,
   "metadata": {},
   "outputs": [],
   "source": [
    "usbond_df = pd.read_excel('data/usbond_data.xlsx')\n",
    "bondtest_data = pd.read_excel('data/bondtest_data.xlsx')\n",
    "european_zerorates = pd.read_excel('data/european_zerorates.xlsx')\n",
    "european_zerorates = european_zerorates.set_index('Maturity')\n",
    "european_zerorates =  european_zerorates['AAA rated']/100 #make percentages\n",
    "european_zerorates.index = standardized_maturities(european_zerorates)"
   ]
  },
  {
   "cell_type": "code",
   "execution_count": 34,
   "metadata": {},
   "outputs": [
    {
     "data": {
      "text/plain": [
       "{'3months': 0.03997, '6months': 0.040970000000000006, '12months': 0.04064}"
      ]
     },
     "execution_count": 34,
     "metadata": {},
     "output_type": "execute_result"
    }
   ],
   "source": [
    "def get_euribordata():\n",
    "    \"\"\"\n",
    "    Fetch Euribor rates data from an API.\n",
    "\n",
    "    Returns:\n",
    "        dict: A dictionary containing Euribor rates for different tenors.\n",
    "\n",
    "    This function sends an API request to retrieve Euribor rates data and then extracts and organizes the rates\n",
    "    for tenors of 3 months, 6 months, and 12 months into a dictionary. The function returns this dictionary.\n",
    "    \"\"\"\n",
    "    url = \"https://euribor.p.rapidapi.com/all\"\n",
    "\n",
    "    headers = {\n",
    "        \"X-RapidAPI-Key\": \"46bc3a6f18mshb2d07e9eb01ef29p1c2d78jsn578089492ef1\",\n",
    "        \"X-RapidAPI-Host\": \"euribor.p.rapidapi.com\"\n",
    "    }\n",
    "\n",
    "    EURIBOR = requests.get(url, headers=headers).json()\n",
    "    \n",
    "    euribor_rates = {\n",
    "        '3months': EURIBOR['3months']/100,\n",
    "        '6months': EURIBOR['6months']/100,\n",
    "        '12months': EURIBOR['12months']/100\n",
    "    }\n",
    "    return euribor_rates\n",
    "\n",
    "get_euribordata()"
   ]
  },
  {
   "cell_type": "code",
   "execution_count": 38,
   "metadata": {},
   "outputs": [
    {
     "data": {
      "text/plain": [
       "0.03902"
      ]
     },
     "execution_count": 38,
     "metadata": {},
     "output_type": "execute_result"
    }
   ],
   "source": [
    "def get_esterdata():\n",
    "    API_KEY = 'Jcu52w5Gpb+4VrQI58md/A==lPpZWr0GtZ9GlZzg'\n",
    "    api_url = 'https://api.api-ninjas.com/v1/interestrate'\n",
    "    response = requests.get(api_url, headers={'X-Api-Key': API_KEY}).json()\n",
    "\n",
    "    ester_rate_pct = None\n",
    "    for item in response[\"non_central_bank_rates\"]:\n",
    "        if item[\"name\"] == \"ESTER\":\n",
    "            ester_rate_pct = item[\"rate_pct\"]/100\n",
    "    return ester_rate_pct\n",
    "\n",
    "get_esterdata()"
   ]
  },
  {
   "cell_type": "code",
   "execution_count": 74,
   "metadata": {},
   "outputs": [
    {
     "name": "stdout",
     "output_type": "stream",
     "text": [
      "Interpolating for maturity 2 at time 0.5\n"
     ]
    },
    {
     "ename": "ValueError",
     "evalue": "cannot reshape array of size 0 into shape (0,newaxis)",
     "output_type": "error",
     "traceback": [
      "\u001b[1;31m---------------------------------------------------------------------------\u001b[0m",
      "\u001b[1;31mValueError\u001b[0m                                Traceback (most recent call last)",
      "\u001b[1;32m~\\AppData\\Local\\Temp\\ipykernel_13800\\1249405904.py\u001b[0m in \u001b[0;36m<module>\u001b[1;34m\u001b[0m\n\u001b[0;32m     56\u001b[0m     \u001b[1;32mreturn\u001b[0m \u001b[0mzero_curve\u001b[0m\u001b[1;33m\u001b[0m\u001b[1;33m\u001b[0m\u001b[0m\n\u001b[0;32m     57\u001b[0m \u001b[1;33m\u001b[0m\u001b[0m\n\u001b[1;32m---> 58\u001b[1;33m \u001b[0mzero_curve\u001b[0m \u001b[1;33m=\u001b[0m \u001b[0mbootstrap_zero_curve_bonds\u001b[0m\u001b[1;33m(\u001b[0m\u001b[0mbond_price_coupon_1proc\u001b[0m\u001b[1;33m,\u001b[0m \u001b[0mbond_maturities\u001b[0m\u001b[1;33m,\u001b[0m \u001b[0mpayments_per_year\u001b[0m\u001b[1;33m,\u001b[0m \u001b[0mface_value\u001b[0m\u001b[1;33m,\u001b[0m \u001b[0meuribor_rates\u001b[0m\u001b[1;33m,\u001b[0m \u001b[0mcoupon_rate\u001b[0m\u001b[1;33m)\u001b[0m\u001b[1;33m\u001b[0m\u001b[1;33m\u001b[0m\u001b[0m\n\u001b[0m\u001b[0;32m     59\u001b[0m \u001b[1;33m\u001b[0m\u001b[0m\n\u001b[0;32m     60\u001b[0m \u001b[0mplt\u001b[0m\u001b[1;33m.\u001b[0m\u001b[0mplot\u001b[0m\u001b[1;33m(\u001b[0m\u001b[0mzero_curve\u001b[0m\u001b[1;33m[\u001b[0m\u001b[1;34m'Zero_Rate'\u001b[0m\u001b[1;33m]\u001b[0m\u001b[1;33m)\u001b[0m\u001b[1;33m\u001b[0m\u001b[1;33m\u001b[0m\u001b[0m\n",
      "\u001b[1;32m~\\AppData\\Local\\Temp\\ipykernel_13800\\1249405904.py\u001b[0m in \u001b[0;36mbootstrap_zero_curve_bonds\u001b[1;34m(bond_price_coupon_1proc, bond_maturities, payments_per_year, face_value, euribor_rates, coupon_rate)\u001b[0m\n\u001b[0;32m     38\u001b[0m                 \u001b[1;32melse\u001b[0m\u001b[1;33m:\u001b[0m\u001b[1;33m\u001b[0m\u001b[1;33m\u001b[0m\u001b[0m\n\u001b[0;32m     39\u001b[0m                     \u001b[0mprint\u001b[0m\u001b[1;33m(\u001b[0m\u001b[1;34mf\"Interpolating for maturity {maturity} at time {t}\"\u001b[0m\u001b[1;33m)\u001b[0m\u001b[1;33m\u001b[0m\u001b[1;33m\u001b[0m\u001b[0m\n\u001b[1;32m---> 40\u001b[1;33m                     interpolating_function = interp1d(\n\u001b[0m\u001b[0;32m     41\u001b[0m                         \u001b[0mlist\u001b[0m\u001b[1;33m(\u001b[0m\u001b[0mzero_rates\u001b[0m\u001b[1;33m.\u001b[0m\u001b[0mkeys\u001b[0m\u001b[1;33m(\u001b[0m\u001b[1;33m)\u001b[0m\u001b[1;33m)\u001b[0m\u001b[1;33m,\u001b[0m \u001b[0mlist\u001b[0m\u001b[1;33m(\u001b[0m\u001b[0mzero_rates\u001b[0m\u001b[1;33m.\u001b[0m\u001b[0mvalues\u001b[0m\u001b[1;33m(\u001b[0m\u001b[1;33m)\u001b[0m\u001b[1;33m)\u001b[0m\u001b[1;33m,\u001b[0m \u001b[0mkind\u001b[0m\u001b[1;33m=\u001b[0m\u001b[1;34m'linear'\u001b[0m\u001b[1;33m,\u001b[0m \u001b[0mfill_value\u001b[0m\u001b[1;33m=\u001b[0m\u001b[1;34m'extrapolate'\u001b[0m\u001b[1;33m\u001b[0m\u001b[1;33m\u001b[0m\u001b[0m\n\u001b[0;32m     42\u001b[0m                     )\n",
      "\u001b[1;32mc:\\Users\\bramg\\anaconda3\\lib\\site-packages\\scipy\\interpolate\\_interpolate.py\u001b[0m in \u001b[0;36m__init__\u001b[1;34m(self, x, y, kind, axis, copy, bounds_error, fill_value, assume_sorted)\u001b[0m\n\u001b[0;32m    482\u001b[0m         \u001b[1;31m# Interpolation goes internally along the first axis\u001b[0m\u001b[1;33m\u001b[0m\u001b[1;33m\u001b[0m\u001b[0m\n\u001b[0;32m    483\u001b[0m         \u001b[0mself\u001b[0m\u001b[1;33m.\u001b[0m\u001b[0my\u001b[0m \u001b[1;33m=\u001b[0m \u001b[0my\u001b[0m\u001b[1;33m\u001b[0m\u001b[1;33m\u001b[0m\u001b[0m\n\u001b[1;32m--> 484\u001b[1;33m         \u001b[0mself\u001b[0m\u001b[1;33m.\u001b[0m\u001b[0m_y\u001b[0m \u001b[1;33m=\u001b[0m \u001b[0mself\u001b[0m\u001b[1;33m.\u001b[0m\u001b[0m_reshape_yi\u001b[0m\u001b[1;33m(\u001b[0m\u001b[0mself\u001b[0m\u001b[1;33m.\u001b[0m\u001b[0my\u001b[0m\u001b[1;33m)\u001b[0m\u001b[1;33m\u001b[0m\u001b[1;33m\u001b[0m\u001b[0m\n\u001b[0m\u001b[0;32m    485\u001b[0m         \u001b[0mself\u001b[0m\u001b[1;33m.\u001b[0m\u001b[0mx\u001b[0m \u001b[1;33m=\u001b[0m \u001b[0mx\u001b[0m\u001b[1;33m\u001b[0m\u001b[1;33m\u001b[0m\u001b[0m\n\u001b[0;32m    486\u001b[0m         \u001b[1;32mdel\u001b[0m \u001b[0my\u001b[0m\u001b[1;33m,\u001b[0m \u001b[0mx\u001b[0m  \u001b[1;31m# clean up namespace to prevent misuse; use attributes\u001b[0m\u001b[1;33m\u001b[0m\u001b[1;33m\u001b[0m\u001b[0m\n",
      "\u001b[1;32mc:\\Users\\bramg\\anaconda3\\lib\\site-packages\\scipy\\interpolate\\_polyint.py\u001b[0m in \u001b[0;36m_reshape_yi\u001b[1;34m(self, yi, check)\u001b[0m\n\u001b[0;32m    108\u001b[0m                                            self._y_extra_shape[:-self._y_axis])\n\u001b[0;32m    109\u001b[0m             \u001b[1;32mraise\u001b[0m \u001b[0mValueError\u001b[0m\u001b[1;33m(\u001b[0m\u001b[1;34m\"Data must be of shape %s\"\u001b[0m \u001b[1;33m%\u001b[0m \u001b[0mok_shape\u001b[0m\u001b[1;33m)\u001b[0m\u001b[1;33m\u001b[0m\u001b[1;33m\u001b[0m\u001b[0m\n\u001b[1;32m--> 110\u001b[1;33m         \u001b[1;32mreturn\u001b[0m \u001b[0myi\u001b[0m\u001b[1;33m.\u001b[0m\u001b[0mreshape\u001b[0m\u001b[1;33m(\u001b[0m\u001b[1;33m(\u001b[0m\u001b[0myi\u001b[0m\u001b[1;33m.\u001b[0m\u001b[0mshape\u001b[0m\u001b[1;33m[\u001b[0m\u001b[1;36m0\u001b[0m\u001b[1;33m]\u001b[0m\u001b[1;33m,\u001b[0m \u001b[1;33m-\u001b[0m\u001b[1;36m1\u001b[0m\u001b[1;33m)\u001b[0m\u001b[1;33m)\u001b[0m\u001b[1;33m\u001b[0m\u001b[1;33m\u001b[0m\u001b[0m\n\u001b[0m\u001b[0;32m    111\u001b[0m \u001b[1;33m\u001b[0m\u001b[0m\n\u001b[0;32m    112\u001b[0m     \u001b[1;32mdef\u001b[0m \u001b[0m_set_yi\u001b[0m\u001b[1;33m(\u001b[0m\u001b[0mself\u001b[0m\u001b[1;33m,\u001b[0m \u001b[0myi\u001b[0m\u001b[1;33m,\u001b[0m \u001b[0mxi\u001b[0m\u001b[1;33m=\u001b[0m\u001b[1;32mNone\u001b[0m\u001b[1;33m,\u001b[0m \u001b[0maxis\u001b[0m\u001b[1;33m=\u001b[0m\u001b[1;32mNone\u001b[0m\u001b[1;33m)\u001b[0m\u001b[1;33m:\u001b[0m\u001b[1;33m\u001b[0m\u001b[1;33m\u001b[0m\u001b[0m\n",
      "\u001b[1;31mValueError\u001b[0m: cannot reshape array of size 0 into shape (0,newaxis)"
     ]
    }
   ],
   "source": [
    "#####mijn manier maar werkt maar tot 10 jaar en daarna pakt ie niet de goede sprongen\n",
    "from scipy.interpolate import interp1d\n",
    "\n",
    "euribor_rates = get_euribordata()\n",
    "euribor_rates = [0.03896, 0.03834, euribor_rates['3months']/100, euribor_rates['6months']/100, euribor_rates['12months']/100]\n",
    "\n",
    "bond_price_coupon_1proc = [\n",
    "    95.81, 94.39, 92.89, 91.25, 89.74, 88.11, 86.34, 84.47, 82.58,\n",
    "    74.03, 67.92, 63.21, 58.73\n",
    "]\n",
    "\n",
    "bond_maturities = [\n",
    "    2, 3, 4, 5, 6, 7, 8, 9, 10, 15, 20, 25, 30\n",
    "]\n",
    "\n",
    "face_value = 100\n",
    "payments_per_year = 1\n",
    "coupon_rate = 1\n",
    "\n",
    "def bootstrap_zero_curve_bonds(bond_price_coupon_1proc, bond_maturities, payments_per_year, face_value, euribor_rates, coupon_rate):\n",
    "    zero_rates = {}    \n",
    "    for i, maturity in enumerate(bond_maturities):\n",
    "\n",
    "        bond_price = bond_price_coupon_1proc[i]\n",
    "\n",
    "        if coupon_rate/100 == 0:\n",
    "            zero_rate = -np.log(bond_price / face_value) * (1 / maturity)\n",
    "            \n",
    "        else:\n",
    "            discounted_coupon = []\n",
    "\n",
    "            for t in np.arange(0.5, maturity + 0.5, 0.5):\n",
    "\n",
    "                if t in zero_rates:\n",
    "                    discount_factor  =  np.exp(-zero_rates[t] * payments_per_year * (t + 1))\n",
    "                    cash_flow = -coupon_rate * discount_factor\n",
    "                    discounted_coupon.append(cash_flow)\n",
    "                \n",
    "        \n",
    "            coupon_payment = np.sum(discounted_coupon)\n",
    "            zero_rate = -np.log((bond_price + coupon_payment) / (face_value+coupon_rate)) * (1 / maturity)\n",
    "            \n",
    "        zero_rates[maturity] = zero_rate\n",
    "\n",
    "    zero_curve = pd.DataFrame(columns=['Maturity', 'Zero_Rate'])\n",
    "\n",
    "    for maturity, zero_rate in zero_rates.items():\n",
    "        zero_curve.loc[len(zero_curve)] = [maturity, zero_rate]\n",
    "    \n",
    "    return zero_curve\n",
    "\n",
    "zero_curve = bootstrap_zero_curve_bonds(bond_price_coupon_1proc, bond_maturities, payments_per_year, face_value, euribor_rates, coupon_rate)\n",
    "\n",
    "plt.plot(zero_curve['Zero_Rate'])\n",
    "plt.show()"
   ]
  },
  {
   "cell_type": "code",
   "execution_count": 70,
   "metadata": {},
   "outputs": [
    {
     "name": "stdout",
     "output_type": "stream",
     "text": [
      "1.0 -0.1 0.01 [2, 3, 4, 5, 6, 7, 8, 9, 10]\n"
     ]
    },
    {
     "ename": "TypeError",
     "evalue": "can't multiply sequence by non-int of type 'numpy.float64'",
     "output_type": "error",
     "traceback": [
      "\u001b[1;31m---------------------------------------------------------------------------\u001b[0m",
      "\u001b[1;31mTypeError\u001b[0m                                 Traceback (most recent call last)",
      "\u001b[1;32m~\\AppData\\Local\\Temp\\ipykernel_13800\\3783693403.py\u001b[0m in \u001b[0;36m<module>\u001b[1;34m\u001b[0m\n\u001b[0;32m     20\u001b[0m \u001b[1;33m\u001b[0m\u001b[0m\n\u001b[0;32m     21\u001b[0m \u001b[1;31m# Perform the optimization\u001b[0m\u001b[1;33m\u001b[0m\u001b[1;33m\u001b[0m\u001b[0m\n\u001b[1;32m---> 22\u001b[1;33m \u001b[0mresult\u001b[0m \u001b[1;33m=\u001b[0m \u001b[0mminimize\u001b[0m\u001b[1;33m(\u001b[0m\u001b[0mloss\u001b[0m\u001b[1;33m,\u001b[0m \u001b[0minitial_params\u001b[0m\u001b[1;33m,\u001b[0m \u001b[0mmethod\u001b[0m\u001b[1;33m=\u001b[0m\u001b[1;34m'Nelder-Mead'\u001b[0m\u001b[1;33m)\u001b[0m\u001b[1;33m\u001b[0m\u001b[1;33m\u001b[0m\u001b[0m\n\u001b[0m\u001b[0;32m     23\u001b[0m \u001b[1;33m\u001b[0m\u001b[0m\n\u001b[0;32m     24\u001b[0m \u001b[1;31m# Extract the optimized parameters\u001b[0m\u001b[1;33m\u001b[0m\u001b[1;33m\u001b[0m\u001b[0m\n",
      "\u001b[1;32mc:\\Users\\bramg\\anaconda3\\lib\\site-packages\\scipy\\optimize\\_minimize.py\u001b[0m in \u001b[0;36mminimize\u001b[1;34m(fun, x0, args, method, jac, hess, hessp, bounds, constraints, tol, callback, options)\u001b[0m\n\u001b[0;32m    678\u001b[0m \u001b[1;33m\u001b[0m\u001b[0m\n\u001b[0;32m    679\u001b[0m     \u001b[1;32mif\u001b[0m \u001b[0mmeth\u001b[0m \u001b[1;33m==\u001b[0m \u001b[1;34m'nelder-mead'\u001b[0m\u001b[1;33m:\u001b[0m\u001b[1;33m\u001b[0m\u001b[1;33m\u001b[0m\u001b[0m\n\u001b[1;32m--> 680\u001b[1;33m         res = _minimize_neldermead(fun, x0, args, callback, bounds=bounds,\n\u001b[0m\u001b[0;32m    681\u001b[0m                                    **options)\n\u001b[0;32m    682\u001b[0m     \u001b[1;32melif\u001b[0m \u001b[0mmeth\u001b[0m \u001b[1;33m==\u001b[0m \u001b[1;34m'powell'\u001b[0m\u001b[1;33m:\u001b[0m\u001b[1;33m\u001b[0m\u001b[1;33m\u001b[0m\u001b[0m\n",
      "\u001b[1;32mc:\\Users\\bramg\\anaconda3\\lib\\site-packages\\scipy\\optimize\\_optimize.py\u001b[0m in \u001b[0;36m_minimize_neldermead\u001b[1;34m(func, x0, args, callback, maxiter, maxfev, disp, return_all, initial_simplex, xatol, fatol, adaptive, bounds, **unknown_options)\u001b[0m\n\u001b[0;32m    791\u001b[0m     \u001b[1;32mtry\u001b[0m\u001b[1;33m:\u001b[0m\u001b[1;33m\u001b[0m\u001b[1;33m\u001b[0m\u001b[0m\n\u001b[0;32m    792\u001b[0m         \u001b[1;32mfor\u001b[0m \u001b[0mk\u001b[0m \u001b[1;32min\u001b[0m \u001b[0mrange\u001b[0m\u001b[1;33m(\u001b[0m\u001b[0mN\u001b[0m \u001b[1;33m+\u001b[0m \u001b[1;36m1\u001b[0m\u001b[1;33m)\u001b[0m\u001b[1;33m:\u001b[0m\u001b[1;33m\u001b[0m\u001b[1;33m\u001b[0m\u001b[0m\n\u001b[1;32m--> 793\u001b[1;33m             \u001b[0mfsim\u001b[0m\u001b[1;33m[\u001b[0m\u001b[0mk\u001b[0m\u001b[1;33m]\u001b[0m \u001b[1;33m=\u001b[0m \u001b[0mfunc\u001b[0m\u001b[1;33m(\u001b[0m\u001b[0msim\u001b[0m\u001b[1;33m[\u001b[0m\u001b[0mk\u001b[0m\u001b[1;33m]\u001b[0m\u001b[1;33m)\u001b[0m\u001b[1;33m\u001b[0m\u001b[1;33m\u001b[0m\u001b[0m\n\u001b[0m\u001b[0;32m    794\u001b[0m     \u001b[1;32mexcept\u001b[0m \u001b[0m_MaxFuncCallError\u001b[0m\u001b[1;33m:\u001b[0m\u001b[1;33m\u001b[0m\u001b[1;33m\u001b[0m\u001b[0m\n\u001b[0;32m    795\u001b[0m         \u001b[1;32mpass\u001b[0m\u001b[1;33m\u001b[0m\u001b[1;33m\u001b[0m\u001b[0m\n",
      "\u001b[1;32mc:\\Users\\bramg\\anaconda3\\lib\\site-packages\\scipy\\optimize\\_optimize.py\u001b[0m in \u001b[0;36mfunction_wrapper\u001b[1;34m(x, *wrapper_args)\u001b[0m\n\u001b[0;32m    494\u001b[0m         \u001b[0mncalls\u001b[0m\u001b[1;33m[\u001b[0m\u001b[1;36m0\u001b[0m\u001b[1;33m]\u001b[0m \u001b[1;33m+=\u001b[0m \u001b[1;36m1\u001b[0m\u001b[1;33m\u001b[0m\u001b[1;33m\u001b[0m\u001b[0m\n\u001b[0;32m    495\u001b[0m         \u001b[1;31m# A copy of x is sent to the user function (gh13740)\u001b[0m\u001b[1;33m\u001b[0m\u001b[1;33m\u001b[0m\u001b[0m\n\u001b[1;32m--> 496\u001b[1;33m         \u001b[0mfx\u001b[0m \u001b[1;33m=\u001b[0m \u001b[0mfunction\u001b[0m\u001b[1;33m(\u001b[0m\u001b[0mnp\u001b[0m\u001b[1;33m.\u001b[0m\u001b[0mcopy\u001b[0m\u001b[1;33m(\u001b[0m\u001b[0mx\u001b[0m\u001b[1;33m)\u001b[0m\u001b[1;33m,\u001b[0m \u001b[1;33m*\u001b[0m\u001b[1;33m(\u001b[0m\u001b[0mwrapper_args\u001b[0m \u001b[1;33m+\u001b[0m \u001b[0margs\u001b[0m\u001b[1;33m)\u001b[0m\u001b[1;33m)\u001b[0m\u001b[1;33m\u001b[0m\u001b[1;33m\u001b[0m\u001b[0m\n\u001b[0m\u001b[0;32m    497\u001b[0m         \u001b[1;31m# Ideally, we'd like to a have a true scalar returned from f(x). For\u001b[0m\u001b[1;33m\u001b[0m\u001b[1;33m\u001b[0m\u001b[0m\n\u001b[0;32m    498\u001b[0m         \u001b[1;31m# backwards-compatibility, also allow np.array([1.3]),\u001b[0m\u001b[1;33m\u001b[0m\u001b[1;33m\u001b[0m\u001b[0m\n",
      "\u001b[1;32m~\\AppData\\Local\\Temp\\ipykernel_13800\\3783693403.py\u001b[0m in \u001b[0;36mloss\u001b[1;34m(params)\u001b[0m\n\u001b[0;32m     13\u001b[0m \u001b[1;31m# Define the loss function to minimize (least squares)\u001b[0m\u001b[1;33m\u001b[0m\u001b[1;33m\u001b[0m\u001b[0m\n\u001b[0;32m     14\u001b[0m \u001b[1;32mdef\u001b[0m \u001b[0mloss\u001b[0m\u001b[1;33m(\u001b[0m\u001b[0mparams\u001b[0m\u001b[1;33m)\u001b[0m\u001b[1;33m:\u001b[0m\u001b[1;33m\u001b[0m\u001b[1;33m\u001b[0m\u001b[0m\n\u001b[1;32m---> 15\u001b[1;33m     \u001b[0mpredicted\u001b[0m \u001b[1;33m=\u001b[0m \u001b[0mexponential_function\u001b[0m\u001b[1;33m(\u001b[0m\u001b[0mparams\u001b[0m\u001b[1;33m,\u001b[0m \u001b[0mbond_maturities\u001b[0m\u001b[1;33m)\u001b[0m\u001b[1;33m\u001b[0m\u001b[1;33m\u001b[0m\u001b[0m\n\u001b[0m\u001b[0;32m     16\u001b[0m     \u001b[1;32mreturn\u001b[0m \u001b[0mnp\u001b[0m\u001b[1;33m.\u001b[0m\u001b[0msum\u001b[0m\u001b[1;33m(\u001b[0m\u001b[1;33m(\u001b[0m\u001b[0mpredicted\u001b[0m \u001b[1;33m-\u001b[0m \u001b[0mzero_rates\u001b[0m\u001b[1;33m)\u001b[0m \u001b[1;33m**\u001b[0m \u001b[1;36m2\u001b[0m\u001b[1;33m)\u001b[0m\u001b[1;33m\u001b[0m\u001b[1;33m\u001b[0m\u001b[0m\n\u001b[0;32m     17\u001b[0m \u001b[1;33m\u001b[0m\u001b[0m\n",
      "\u001b[1;32m~\\AppData\\Local\\Temp\\ipykernel_13800\\3783693403.py\u001b[0m in \u001b[0;36mexponential_function\u001b[1;34m(params, x)\u001b[0m\n\u001b[0;32m      9\u001b[0m     \u001b[0ma\u001b[0m\u001b[1;33m,\u001b[0m \u001b[0mb\u001b[0m\u001b[1;33m,\u001b[0m \u001b[0mc\u001b[0m \u001b[1;33m=\u001b[0m \u001b[0mparams\u001b[0m\u001b[1;33m\u001b[0m\u001b[1;33m\u001b[0m\u001b[0m\n\u001b[0;32m     10\u001b[0m     \u001b[0mprint\u001b[0m\u001b[1;33m(\u001b[0m\u001b[0ma\u001b[0m\u001b[1;33m,\u001b[0m \u001b[0mb\u001b[0m\u001b[1;33m,\u001b[0m \u001b[0mc\u001b[0m\u001b[1;33m,\u001b[0m \u001b[0mx\u001b[0m\u001b[1;33m)\u001b[0m\u001b[1;33m\u001b[0m\u001b[1;33m\u001b[0m\u001b[0m\n\u001b[1;32m---> 11\u001b[1;33m     \u001b[1;32mreturn\u001b[0m \u001b[0ma\u001b[0m \u001b[1;33m*\u001b[0m \u001b[0mnp\u001b[0m\u001b[1;33m.\u001b[0m\u001b[0mexp\u001b[0m\u001b[1;33m(\u001b[0m\u001b[0mb\u001b[0m \u001b[1;33m*\u001b[0m \u001b[0mx\u001b[0m\u001b[1;33m)\u001b[0m \u001b[1;33m+\u001b[0m \u001b[0mc\u001b[0m\u001b[1;33m\u001b[0m\u001b[1;33m\u001b[0m\u001b[0m\n\u001b[0m\u001b[0;32m     12\u001b[0m \u001b[1;33m\u001b[0m\u001b[0m\n\u001b[0;32m     13\u001b[0m \u001b[1;31m# Define the loss function to minimize (least squares)\u001b[0m\u001b[1;33m\u001b[0m\u001b[1;33m\u001b[0m\u001b[0m\n",
      "\u001b[1;31mTypeError\u001b[0m: can't multiply sequence by non-int of type 'numpy.float64'"
     ]
    }
   ],
   "source": []
  },
  {
   "cell_type": "code",
   "execution_count": 7,
   "metadata": {},
   "outputs": [
    {
     "data": {
      "image/png": "[encoded data removed]",
      "text/plain": [
       "<Figure size 800x400 with 1 Axes>"
      ]
     },
     "metadata": {},
     "output_type": "display_data"
    }
   ],
   "source": [
    "euribor_rates = get_euribordata()\n",
    "tenors = ['3 months', '6 months', '12 months']\n",
    "rates = [euribor_rates['3months'], euribor_rates['6months'], euribor_rates['12months']]\n",
    "\n",
    "plt.figure(figsize=(8, 4))\n",
    "plt.plot(tenors, rates, 'o', markersize=10)  # 'o' creates circular markers\n",
    "plt.title('Euribor Rates for Different Tenors')\n",
    "plt.xlabel('Tenor')\n",
    "plt.ylabel('Rate (%)')\n",
    "plt.grid(True)\n",
    "plt.show()"
   ]
  },
  {
   "cell_type": "code",
   "execution_count": 7,
   "metadata": {},
   "outputs": [],
   "source": [
    "def __determine_paymentfrequency(payment_frequency):\n",
    "    \"\"\"\n",
    "    Determine the Pandas frequency string and number of months for a given payment frequency.\n",
    "\n",
    "    Parameters:\n",
    "        payment_frequency (float): Payment frequency (e.g., 0.5 for semi-annual).\n",
    "\n",
    "    Returns:\n",
    "        tuple: A tuple containing the Pandas frequency string and the number of months in the frequency.\n",
    "\n",
    "    This private function maps a payment frequency to a Pandas frequency string and returns it along with the\n",
    "    corresponding number of months in that frequency. It is used to determine the frequency for date range generation.\n",
    "    \"\"\"\n",
    "    if payment_frequency == 0.5:  # Semi-annual\n",
    "        freq_str = '6M'\n",
    "        months = 6\n",
    "    elif payment_frequency == 0.25:  # Quarterly\n",
    "        freq_str = '3M'\n",
    "        months = 3\n",
    "    elif payment_frequency == 1:  # Annual\n",
    "        freq_str = '12M'\n",
    "        months = 12\n",
    "    else:\n",
    "        raise ValueError(f\"Unsupported payment frequency: {payment_frequency}\")\n",
    "    return freq_str, months\n"
   ]
  },
  {
   "cell_type": "markdown",
   "metadata": {},
   "source": [
    "## Cashflows: "
   ]
  },
  {
   "cell_type": "code",
   "execution_count": 106,
   "metadata": {},
   "outputs": [],
   "source": [
    "def calculate_floating_cashflow(notional_amount, payment_dates, start_date, months, payment_frequency, reference_rate, amortization_schedule):\n",
    "    \"\"\"\n",
    "    Calculate floating cash flows for an interest rate swap.\n",
    "\n",
    "    Parameters:\n",
    "        notional_amount (float): The initial notional amount.\n",
    "        start_date (pd.Timestamp): The start date of the interest rate swap.\n",
    "        end_date (pd.Timestamp): The end date of the interest rate swap.\n",
    "        payment_frequency (float): Payment frequency (e.g., 0.5 for semi-annual).\n",
    "        reference_rate (dict): Dictionary containing reference rates for different tenors.\n",
    "\n",
    "    Returns:\n",
    "        list: A list of floating cash flows.\n",
    "\n",
    "    This function calculates floating cash flows for an interest rate swap with a reference rate. It determines payment\n",
    "    dates based on the specified payment frequency, then computes the floating cash flows for each payment date,\n",
    "    excluding the start date, using the corresponding reference rate for the given tenor.\n",
    "    \"\"\"\n",
    "\n",
    "    floating_cashflows = []\n",
    "\n",
    "\n",
    "    for date in payment_dates:\n",
    "        if date != start_date:\n",
    "            rate = reference_rate[f\"{months}months\"]\n",
    "\n",
    "            if amortization_schedule !=None:\n",
    "                notional_amount = amortization_schedule[date]\n",
    "\n",
    "            floating_cash_flow = notional_amount * rate * payment_frequency\n",
    "            floating_cashflows.append(floating_cash_flow)             \n",
    "\n",
    "    return floating_cashflows\n",
    "\n",
    "\n",
    "def calculate_fixed_cashflow(notional_amount, payment_dates, start_date, payment_frequency, fixed_rate, amortization_schedule):\n",
    "    \"\"\"\n",
    "    Calculate fixed cash flows for an interest rate swap.\n",
    "\n",
    "    Parameters:\n",
    "        notional_amount (float): The initial notional amount.\n",
    "        start_date (pd.Timestamp): The start date of the interest rate swap.\n",
    "        end_date (pd.Timestamp): The end date of the interest rate swap.\n",
    "        payment_frequency (float): Payment frequency (e.g., 0.5 for semi-annual).\n",
    "        fixed_rate (float): The fixed interest rate for the swap.\n",
    "\n",
    "    Returns:\n",
    "        tuple: A tuple containing a list of fixed cash flows and payment dates.\n",
    "\n",
    "    This function calculates fixed cash flows for an interest rate swap with a fixed rate. It determines payment dates\n",
    "    based on the specified payment frequency, then computes the fixed cash flows for each payment date, excluding the\n",
    "    start date, and returns them as a list along with the payment dates.\n",
    "    \"\"\"\n",
    "\n",
    "    fixed_cash_flows = []\n",
    "\n",
    "    for date in payment_dates:\n",
    "        if date != start_date:\n",
    "            if amortization_schedule !=None:\n",
    "                notional_amount = amortization_schedule[date]\n",
    "            fixed_cash_flow = notional_amount * fixed_rate * payment_frequency\n",
    "            fixed_cash_flows.append(fixed_cash_flow)\n",
    "    \n",
    "    return fixed_cash_flows\n",
    "\n",
    "def interpolating_zero_rate(zero_curve, payment_dates):\n",
    "    \"\"\"\n",
    "    Interpolate zero rates for a list of payment dates using a zero curve.\n",
    "\n",
    "    Parameters:\n",
    "        zero_curve (pd.Series): A Pandas Series containing zero rates for various maturities.\n",
    "        payment_dates (list): List of payment dates corresponding to the zero rate interpolation.\n",
    "\n",
    "    Returns:\n",
    "        np.array: An array of interpolated zero rates for the provided payment dates.\n",
    "\n",
    "    This function interpolates zero rates for a list of payment dates based on a given zero curve. It calculates the\n",
    "    time to maturity in years for each payment date, then uses interpolation to estimate the zero rates for those\n",
    "    dates. The function returns an array of interpolated zero rates.\n",
    "    \"\"\"\n",
    "    \n",
    "    start_date = payment_dates[0]\n",
    "    years_to_maturity = (payment_dates - start_date).total_seconds() / (365 * 24 * 60 * 60)\n",
    "    interpolating_function = interp1d(zero_curve.index, zero_curve, fill_value=\"extrapolate\", bounds_error=False)\n",
    "    interpolated_rates = interpolating_function(years_to_maturity)\n",
    "\n",
    "    return interpolated_rates\n",
    "\n",
    "\n",
    "def discount_cash_flows(cash_flows, payment_dates, zero_curve, payment_frequency):\n",
    "    \"\"\"\n",
    "    Calculate the discounted cash flows for a given set of cash flows and payment dates using a zero curve.\n",
    "\n",
    "    Parameters:\n",
    "        cash_flows (list): List of cash flow values.\n",
    "        payment_dates (list): List of payment dates corresponding to the cash flows.\n",
    "        zero_curve (dict): Dictionary containing zero rates for various maturities.\n",
    "        payment_frequency (float): Payment frequency (e.g., 0.5 for semi-annual).\n",
    "\n",
    "    Returns:\n",
    "        float: The sum of the discounted cash flows.\n",
    "    \"\"\"\n",
    "\n",
    "    discounted_cash_flows = []\n",
    "    start_date = payment_dates[0]\n",
    "\n",
    "    # Interpolate the zero rates for the cash flow dates\n",
    "    interpolated_rates = interpolating_zero_rate(zero_curve, payment_dates)\n",
    "\n",
    "    for cash_flow, rate, date in zip(cash_flows, interpolated_rates, payment_dates):\n",
    "        ttm = (date - start_date).days / 365.0  # Time to maturity in years\n",
    "        discount_factor = np.exp(-rate * ttm / payment_frequency)\n",
    "        discounted_cash_flows.append(cash_flow * discount_factor)\n",
    "\n",
    "    return sum(discounted_cash_flows)    "
   ]
  },
  {
   "cell_type": "markdown",
   "metadata": {},
   "source": [
    "## Discount rates:"
   ]
  },
  {
   "cell_type": "code",
   "execution_count": 9,
   "metadata": {},
   "outputs": [],
   "source": [
    "def determine_discount_rate(payment_frequency, yield_curve, one_curve=True):\n",
    "    \"\"\"\n",
    "    Determine discount rates based on yield curve and payment frequency.\n",
    "\n",
    "    Parameters:\n",
    "        payment_frequency (float): Payment frequency (e.g., 0.25 for quarterly, 0.5 for semi-annual, 1 for annual).\n",
    "        yield_curve (dict): Dictionary containing yield curve data, including zero rates and Euribor rates.\n",
    "        one_curve (bool): Boolean flag to indicate whether to use a single curve or two curves.\n",
    "\n",
    "    Returns:\n",
    "        list or tuple: List of zero rates or tuple of zero rates and floating discount rates.\n",
    "\n",
    "    This function determines discount rates based on the provided yield curve data and payment frequency.\n",
    "    If 'one_curve' is True, it returns the zero rates for the specified payment frequency.\n",
    "    If 'one_curve' is False, it calculates interpolated zero rates and floating discount rates for the given\n",
    "    payment frequency and returns a tuple containing zero rates and floating discount rates.\n",
    "    \"\"\"\n",
    "    supported_frequencies = [0.25, 0.5, 1.0]\n",
    "    \n",
    "    if one_curve:\n",
    "        zero_rates = yield_curve['zero_rate']\n",
    "        if payment_frequency in supported_frequencies:\n",
    "            return zero_rates\n",
    "        else:\n",
    "            raise ValueError(\"Unsupported payment frequency. Only 0.25 (quarterly), 0.5 (semi-annual), and 1.0 (annual) are supported.\")\n",
    "    else:\n",
    "        zero_rates = yield_curve['zero_rate']\n",
    "        euribor_rates = yield_curve['euribor']\n",
    "\n",
    "        supported_frequencies = [0.25, 0.5, 1.0]  # Supported payment frequencies\n",
    "        if payment_frequency in supported_frequencies:\n",
    "            return zero_rates, euribor_rates\n",
    "        \n",
    "        # Hier kunnen we nog andere frequencies toevoegen. \n",
    "\n",
    "        # # Interpolate zero rates and Euribor rates\n",
    "        # interpolated_zero_rates = np.interp(np.arange(0.25, max(zero_rates.keys()) + 0.25, payment_frequency), list(zero_rates.keys()), list(zero_rates.values()))\n",
    "        # interpolated_euribor_rates = np.interp(np.arange(0.25, max(euribor_rates.keys()) + 0.25, payment_frequency), list(euribor_rates.keys()), list(euribor_rates.values()))\n",
    "        # # Calculate floating discount rates\n",
    "        # floating_discount_rates = get_floating_discount_rates(payment_frequency, euribor_rates)\n",
    "        # return yield_curve['zero_rate'], floating_discount_rates"
   ]
  },
  {
   "cell_type": "code",
   "execution_count": 97,
   "metadata": {},
   "outputs": [],
   "source": [
    "def calc_swaprate(notional_amount, payment_dates, start_date, months, payment_frequency, swap_rates, zero_rates, amortization_schedule):\n",
    "    guess_rate = 0.01 #adjusting rate (precision)\n",
    "    tolerance = 0.001 #difference pv between floating and fixed rate\n",
    "    max_iterations = 100 \n",
    "    delta_rate = 0.0001\n",
    "\n",
    "    for i in range(max_iterations):\n",
    "        floating_cash_flows = calculate_floating_cashflow(notional_amount, payment_dates, start_date, months, payment_frequency, swap_rates['euribor'], amortization_schedule)\n",
    "        fixed_cash_flows = calculate_fixed_cashflow(notional_amount, payment_dates, start_date, payment_frequency, guess_rate, amortization_schedule)\n",
    "\n",
    "        discounted_floating = discount_cash_flows(floating_cash_flows, payment_dates, zero_rates, payment_frequency)\n",
    "        discounted_fixed = discount_cash_flows(fixed_cash_flows, payment_dates, zero_rates, payment_frequency)\n",
    "        pv_difference = discounted_fixed - discounted_floating\n",
    "\n",
    "        fixed_cash_flows_delta = calculate_fixed_cashflow(notional_amount, payment_dates, start_date, payment_frequency, guess_rate + delta_rate, amortization_schedule)\n",
    "        discounted_fixed_delta = discount_cash_flows(fixed_cash_flows_delta, payment_dates, zero_rates, payment_frequency)\n",
    "        pv_difference_delta = discounted_fixed_delta - discounted_floating\n",
    "\n",
    "        derivative = (pv_difference_delta - pv_difference) / delta_rate\n",
    "        \n",
    "        # Update guess_rate using Newton-Raphson formula\n",
    "        if abs(derivative) > 1e-10:  # Avoid division by zero\n",
    "            guess_rate -= pv_difference / derivative\n",
    "        else:\n",
    "            break\n",
    "        \n",
    "        if abs(pv_difference) < tolerance: \n",
    "            return guess_rate\n",
    "        \n",
    "        guess_rate += pv_difference * 0.001  # Simplified adjustment, use a proper numerical method\n",
    "\n",
    "    raise ValueError(\"Swap rate not found within maximum iterations\")"
   ]
  },
  {
   "cell_type": "code",
   "execution_count": 121,
   "metadata": {},
   "outputs": [],
   "source": [
    "def IRS_enginge(notional_amount, start_date, end_date, payment_frequency, fixed_rate, amortization_schedule=None, one_curve=True, is_at_initiation = True):\n",
    "    \"\"\"\n",
    "    Calculate the net present value (NPV) of an interest rate swap.\n",
    "\n",
    "    Parameters:\n",
    "        zero_rate (pd.Series or float): Zero rates for discounting or a single zero rate if 'one_curve' is True.\n",
    "        notional (float): The initial notional amount.\n",
    "        start_date (pd.Timestamp): The start date of the interest rate swap.\n",
    "        end_date (pd.Timestamp): The end date of the interest rate swap.\n",
    "        payment_frequency (float): Payment frequency (e.g., 0.25 for quarterly, 0.5 for semi-annual, 1 for annual).\n",
    "        fixed_rate (float): The fixed interest rate for the swap.\n",
    "        swap_type (str, optional): Type of interest rate swap (default is 'fixed_vs_floating').\n",
    "        amortization_schedule (list, optional): Amortization schedule if applicable (default is None).\n",
    "        one_curve (bool, optional): Boolean flag to indicate whether to use a single curve or two curves (default is True).\n",
    "\n",
    "    Returns:\n",
    "        float: The net present value (NPV) of the interest rate swap.\n",
    "\n",
    "    This function calculates the NPV of an interest rate swap based on the provided parameters. It takes into account the\n",
    "    type of swap, payment frequency, and whether to use a single curve or two curves for discounting.\n",
    "    \"\"\"\n",
    "\n",
    "    swap_rates = {'euribor': get_euribordata(), 'ester': get_esterdata(), 'fixed_rate': fixed_rate}\n",
    "    zero_rates = european_zerorates\n",
    "     \n",
    "    freq_str, months = __determine_paymentfrequency(payment_frequency)\n",
    "    payment_dates = pd.date_range(start=start_date, end=end_date, freq=freq_str)\n",
    "\n",
    "    if one_curve == True:\n",
    "        if is_at_initiation == False: \n",
    "            floating_cash_flows = calculate_floating_cashflow(notional_amount, payment_dates, start_date, months, payment_frequency, swap_rates['euribor'], amortization_schedule)\n",
    "            fixed_cash_flows = calculate_fixed_cashflow(notional_amount, payment_dates, start_date, payment_frequency, swap_rates['fixed_rate'], amortization_schedule)\n",
    "\n",
    "            discounted_floating = discount_cash_flows(floating_cash_flows, payment_dates, zero_rates, payment_frequency)\n",
    "            discounted_fixed = discount_cash_flows(fixed_cash_flows, payment_dates, zero_rates, payment_frequency)\n",
    "\n",
    "            npv = discounted_fixed - discounted_floating\n",
    "            print(f'NPV using the fixed rate ({swap_rates[\"fixed_rate\"]}): {npv}')\n",
    "            return npv\n",
    "        else:\n",
    "            swap_rate = calc_swaprate(notional_amount, payment_dates, start_date, months, payment_frequency, swap_rates, zero_rates, amortization_schedule)\n",
    "            print(f'Swap rate equals: {np.round(swap_rate,10)}')\n",
    "\n",
    "            return swap_rate\n",
    "    \n",
    "    else: \n",
    "        return\n",
    "        "
   ]
  },
  {
   "cell_type": "code",
   "execution_count": 127,
   "metadata": {},
   "outputs": [
    {
     "name": "stdout",
     "output_type": "stream",
     "text": [
      "NPV using the fixed rate (0.04064): 0.0\n"
     ]
    }
   ],
   "source": [
    "notional_amount = 100\n",
    "start_date = pd.to_datetime('2023-01-01')\n",
    "fixed_rate = 0.04064  # 3% fixed rate\n",
    "payment_frequency = 1  # Semi-annual payments\n",
    "end_date_1 = start_date + pd.DateOffset(years=10)\n",
    "is_at_initiation = False \n",
    "amortization_schedule_1 = create_amortization_schedule(start_date, end_date_1, notional_amount, 0, payment_frequency)\n",
    "\n",
    "result = IRS_enginge(notional_amount, start_date, end_date_1, payment_frequency, fixed_rate, amortization_schedule=amortization_schedule_1, one_curve=True, is_at_initiation = is_at_initiation)"
   ]
  },
  {
   "cell_type": "code",
   "execution_count": 99,
   "metadata": {},
   "outputs": [],
   "source": [
    "# Common parameters\n",
    "notional_amount = 100\n",
    "start_date = pd.to_datetime('2023-01-01')\n",
    "payment_frequency = 0.5  # Semi-annual payments\n",
    "fixed_rate = 0.03  # 3% fixed rate\n",
    "\n",
    "def create_amortization_schedule(start_date, end_date, notional_amount, final_notional, payment_frequency):\n",
    "    freq_rt = __determine_paymentfrequency(payment_frequency)[0]\n",
    "    amortization_dates = pd.date_range(start=start_date, end=end_date, freq=freq_rt)\n",
    "    num_periods = len(amortization_dates)\n",
    "    amortization_step = (notional_amount - final_notional) / (num_periods - 1)\n",
    "    notional_amounts = [notional_amount - i * amortization_step for i in range(num_periods)]\n",
    "    return dict(zip(amortization_dates, notional_amounts))\n",
    "\n",
    "def adjust_rates(df, basis_points): \n",
    "    \"\"\"\"Assignment 1 SPFII Derivatives.pdf\"\n",
    "    \n",
    "    \"\"\"\n",
    "\n",
    "    adjustments = basis_points/1000 #to decimals\n",
    "    return df + adjustments"
   ]
  },
  {
   "cell_type": "code",
   "execution_count": 72,
   "metadata": {},
   "outputs": [
    {
     "name": "stdout",
     "output_type": "stream",
     "text": [
      "False\n"
     ]
    },
    {
     "ename": "TypeError",
     "evalue": "IRS_enginge() got multiple values for argument 'swap_type'",
     "output_type": "error",
     "traceback": [
      "\u001b[1;31m---------------------------------------------------------------------------\u001b[0m",
      "\u001b[1;31mTypeError\u001b[0m                                 Traceback (most recent call last)",
      "\u001b[1;32m~\\AppData\\Local\\Temp\\ipykernel_24336\\1458308608.py\u001b[0m in \u001b[0;36m<module>\u001b[1;34m\u001b[0m\n\u001b[0;32m     30\u001b[0m         \u001b[1;32mfor\u001b[0m \u001b[0mschedule\u001b[0m \u001b[1;32min\u001b[0m \u001b[0mamortization_schedule_list\u001b[0m\u001b[1;33m:\u001b[0m\u001b[1;33m\u001b[0m\u001b[1;33m\u001b[0m\u001b[0m\n\u001b[0;32m     31\u001b[0m             \u001b[1;32mif\u001b[0m \u001b[0mschedule\u001b[0m \u001b[1;33m==\u001b[0m \u001b[1;32mNone\u001b[0m\u001b[1;33m:\u001b[0m\u001b[1;33m\u001b[0m\u001b[1;33m\u001b[0m\u001b[0m\n\u001b[1;32m---> 32\u001b[1;33m                 \u001b[0mScenarios\u001b[0m\u001b[1;33m[\u001b[0m\u001b[1;34m'scenario_2'\u001b[0m\u001b[1;33m]\u001b[0m\u001b[1;33m[\u001b[0m\u001b[1;34mf'{year}yr'\u001b[0m\u001b[1;33m]\u001b[0m\u001b[1;33m[\u001b[0m\u001b[1;34mf'{rate}%'\u001b[0m\u001b[1;33m]\u001b[0m\u001b[1;33m[\u001b[0m\u001b[1;34m'No'\u001b[0m\u001b[1;33m]\u001b[0m \u001b[1;33m=\u001b[0m \u001b[0mIRS_enginge\u001b[0m\u001b[1;33m(\u001b[0m\u001b[0madjusted_rates\u001b[0m\u001b[1;33m,\u001b[0m \u001b[0mnotional_amount\u001b[0m\u001b[1;33m,\u001b[0m \u001b[0mstart_date\u001b[0m\u001b[1;33m,\u001b[0m \u001b[0mend_date_2\u001b[0m\u001b[1;33m,\u001b[0m \u001b[0mpayment_frequency\u001b[0m\u001b[1;33m,\u001b[0m \u001b[0mfixed_rate\u001b[0m\u001b[1;33m,\u001b[0m \u001b[0mswap_type\u001b[0m\u001b[1;33m=\u001b[0m\u001b[1;34m'fixed_vs_floating'\u001b[0m\u001b[1;33m,\u001b[0m \u001b[0mamortization_schedule\u001b[0m\u001b[1;33m=\u001b[0m\u001b[0mschedule\u001b[0m\u001b[1;33m,\u001b[0m \u001b[0mone_curve\u001b[0m\u001b[1;33m=\u001b[0m\u001b[1;32mTrue\u001b[0m\u001b[1;33m)\u001b[0m\u001b[1;33m\u001b[0m\u001b[1;33m\u001b[0m\u001b[0m\n\u001b[0m\u001b[0;32m     33\u001b[0m             \u001b[1;32melse\u001b[0m\u001b[1;33m:\u001b[0m\u001b[1;33m\u001b[0m\u001b[1;33m\u001b[0m\u001b[0m\n\u001b[0;32m     34\u001b[0m                 \u001b[0mScenarios\u001b[0m\u001b[1;33m[\u001b[0m\u001b[1;34m'scenario_2'\u001b[0m\u001b[1;33m]\u001b[0m\u001b[1;33m[\u001b[0m\u001b[1;34mf'{year}yr'\u001b[0m\u001b[1;33m]\u001b[0m\u001b[1;33m[\u001b[0m\u001b[1;34mf'{rate}%'\u001b[0m\u001b[1;33m]\u001b[0m\u001b[1;33m[\u001b[0m\u001b[1;34m'Yes'\u001b[0m\u001b[1;33m]\u001b[0m \u001b[1;33m=\u001b[0m \u001b[0mIRS_enginge\u001b[0m\u001b[1;33m(\u001b[0m\u001b[0madjusted_rates\u001b[0m\u001b[1;33m,\u001b[0m \u001b[0mnotional_amount\u001b[0m\u001b[1;33m,\u001b[0m \u001b[0mstart_date\u001b[0m\u001b[1;33m,\u001b[0m \u001b[0mend_date_2\u001b[0m\u001b[1;33m,\u001b[0m \u001b[0mpayment_frequency\u001b[0m\u001b[1;33m,\u001b[0m \u001b[0mfixed_rate\u001b[0m\u001b[1;33m,\u001b[0m \u001b[0mswap_type\u001b[0m\u001b[1;33m=\u001b[0m\u001b[1;34m'fixed_vs_floating'\u001b[0m\u001b[1;33m,\u001b[0m \u001b[0mamortization_schedule\u001b[0m\u001b[1;33m=\u001b[0m\u001b[0mschedule\u001b[0m\u001b[1;33m,\u001b[0m \u001b[0mone_curve\u001b[0m\u001b[1;33m=\u001b[0m\u001b[1;32mTrue\u001b[0m\u001b[1;33m)\u001b[0m\u001b[1;33m\u001b[0m\u001b[1;33m\u001b[0m\u001b[0m\n",
      "\u001b[1;31mTypeError\u001b[0m: IRS_enginge() got multiple values for argument 'swap_type'"
     ]
    }
   ],
   "source": [
    "Scenarios = {}\n",
    "\n",
    "# Scenario 1: \n",
    "end_date_1 = start_date + pd.DateOffset(years=2)\n",
    "amortization_schedule_1 = create_amortization_schedule(start_date, end_date_1, notional_amount, 50, payment_frequency)\n",
    "fixed_rate = 0.03\n",
    "IRS_enginge(notional_amount, start_date, end_date_1, payment_frequency, fixed_rate, swap_type='fixed_vs_floating', amortization_schedule=None, one_curve=True, is_at_initiation = is_at_initiation)\n",
    "\n",
    "\n",
    "# Scenario 2: \n",
    "Scenarios['scenario_2'] = {}\n",
    "\n",
    "# For 5-year and 7 year swap\n",
    "end_date_2_5yr = start_date + pd.DateOffset(years=5)\n",
    "amortization_schedule_2_5yr = create_amortization_schedule(start_date, end_date_2_5yr, notional_amount, 50, payment_frequency)\n",
    "amortization_schedule_list = [None, amortization_schedule_2_5yr] \n",
    "adjust_rates_list = [0, 25,50, 100, 150]\n",
    "short_term_years = [5, 7]\n",
    "\n",
    "for year in short_term_years:\n",
    "    Scenarios['scenario_2'][f'{year}yr'] = {}\n",
    "\n",
    "    end_date_2 = start_date + pd.DateOffset(years=year)\n",
    "    amortization_schedule_2 = create_amortization_schedule(start_date, end_date_2, notional_amount, 50, payment_frequency)\n",
    "    amortization_schedule_list = [None, amortization_schedule_2] \n",
    "\n",
    "    for rate in adjust_rates_list:\n",
    "        adjusted_rates = adjust_rates(european_zerorates.copy(), rate)\n",
    "        Scenarios['scenario_2'][f'{year}yr'][f'{rate}%'] = {}\n",
    "        for schedule in amortization_schedule_list:\n",
    "            if schedule == None:\n",
    "                Scenarios['scenario_2'][f'{year}yr'][f'{rate}%']['No'] = IRS_enginge(adjusted_rates, notional_amount, start_date, end_date_2, payment_frequency, fixed_rate, swap_type='fixed_vs_floating', amortization_schedule=schedule, one_curve=True)\n",
    "            else: \n",
    "                Scenarios['scenario_2'][f'{year}yr'][f'{rate}%']['Yes'] = IRS_enginge(adjusted_rates, notional_amount, start_date, end_date_2, payment_frequency, fixed_rate, swap_type='fixed_vs_floating', amortization_schedule=schedule, one_curve=True)\n",
    "\n",
    "# Scneario 3: \n",
    "Scenarios['scenario_3'] = {}\n",
    "\n",
    "for years in range(8, 31):\n",
    "    end_date_3 = start_date + pd.DateOffset(years=years)\n",
    "    amortization_schedule_3 = create_amortization_schedule(start_date, end_date_3, notional_amount, 50, payment_frequency)\n",
    "\n",
    "    Scenarios['scenario_3'][f\"{years}yr\"] = {}\n",
    "    rate_changes_bp = [-200, -100, 0, 100, 200]  # -2% (-200 bp), -1% (-100 bp), 0%, +1% (+100 bp), +2% (+200 bp)\n",
    "    \n",
    "    for change_bp in rate_changes_bp:\n",
    "        adjusted_rates = adjust_rates(european_zerorates.copy(), change_bp)\n",
    "        scenario_key = f\"{change_bp/10:+.0f}%\"  # e.g., \"+100%\", \"-100%\"\n",
    "        Scenarios['scenario_3'][f\"{years}yr\"][scenario_key] = IRS_enginge(adjusted_rates, notional_amount, start_date, end_date_3, payment_frequency, fixed_rate, swap_type='fixed_vs_floating', amortization_schedule=amortization_schedule_3, one_curve=True)"
   ]
  },
  {
   "cell_type": "code",
   "execution_count": 47,
   "metadata": {},
   "outputs": [
    {
     "data": {
      "image/png": "[encoded data removed]",
      "text/plain": [
       "<Figure size 640x480 with 1 Axes>"
      ]
     },
     "metadata": {},
     "output_type": "display_data"
    }
   ],
   "source": [
    "# Plot scenario 3: \n",
    "\n",
    "# Prepare data for plotting\n",
    "maturities = range(8, 31)\n",
    "rate_changes = [-200, -100, 0, 100, 200]\n",
    "for change in rate_changes:\n",
    "    swap_values = [Scenarios['scenario_3'][f'{8}yr'][f\"{change/10:+.0f}%\"] for year in maturities]\n",
    "    plt.plot(maturities, swap_values, label=change)\n",
    "\n",
    "plt.xlabel('Maturity (Years)')\n",
    "plt.ylabel('Swap Value')\n",
    "plt.title('Swap Value vs Maturity with Different Zero Curve Adjustments')\n",
    "plt.legend()\n",
    "plt.show()"
   ]
  },
  {
   "cell_type": "code",
   "execution_count": 40,
   "metadata": {},
   "outputs": [
    {
     "data": {
      "text/plain": [
       "{'scenario_1': 1.5399002750707318,\n",
       " 'scenario_2': {'5yr': {'0%': {'No': 1.539909837007399,\n",
       "    'Yes': 1.539909837007399},\n",
       "   '25%': {'No': 1.5388906625839152, 'Yes': 1.5388906625839152},\n",
       "   '50%': {'No': 1.5378986245875788, 'Yes': 1.5378986245875788},\n",
       "   '100%': {'No': 1.5359928566916392, 'Yes': 1.5359928566916392},\n",
       "   '150%': {'No': 1.5341865823704228, 'Yes': 1.5341865823704228}},\n",
       "  '7yr': {'0%': {'No': 1.5399098370151478, 'Yes': 1.5399098370151478},\n",
       "   '25%': {'No': 1.5388906625899372, 'Yes': 1.5388906625899372},\n",
       "   '50%': {'No': 1.537898624592259, 'Yes': 1.537898624592259},\n",
       "   '100%': {'No': 1.5359928566944663, 'Yes': 1.5359928566944663},\n",
       "   '150%': {'No': 1.5341865823721312, 'Yes': 1.5341865823721312}}},\n",
       " 'scenario_3': {'8yr': 1.539909837015148,\n",
       "  '9yr': 1.539909837015148,\n",
       "  '10yr': 1.539909837015148,\n",
       "  '11yr': 1.539909837015148,\n",
       "  '12yr': 1.539909837015148,\n",
       "  '13yr': 1.539909837015148,\n",
       "  '14yr': 1.539909837015148,\n",
       "  '15yr': 1.539909837015148,\n",
       "  '16yr': 1.539909837015148,\n",
       "  '17yr': 1.539909837015148,\n",
       "  '18yr': 1.539909837015148,\n",
       "  '19yr': 1.539909837015148,\n",
       "  '20yr': 1.539909837015148,\n",
       "  '21yr': 1.539909837015148,\n",
       "  '22yr': 1.539909837015148,\n",
       "  '23yr': 1.539909837015148,\n",
       "  '24yr': 1.539909837015148,\n",
       "  '25yr': 1.539909837015148,\n",
       "  '26yr': 1.539909837015148,\n",
       "  '27yr': 1.539909837015148,\n",
       "  '28yr': 1.539909837015148,\n",
       "  '29yr': 1.539909837015148,\n",
       "  '30yr': 1.539909837015148}}"
      ]
     },
     "execution_count": 40,
     "metadata": {},
     "output_type": "execute_result"
    }
   ],
   "source": [
    "Scenarios"
   ]
  },
  {
   "cell_type": "markdown",
   "metadata": {},
   "source": [
    "## Bootstrap method: \n",
    "- Currently not sure which bonds to use to find zero rates"
   ]
  },
  {
   "cell_type": "code",
   "execution_count": 14,
   "metadata": {},
   "outputs": [
    {
     "data": {
      "text/plain": [
       "{0.5: 0.10469296074441824,\n",
       " 1.0: 0.10536051565782628,\n",
       " 1.5: 0.10680926388170528,\n",
       " 2.0: 0.10808027549746793}"
      ]
     },
     "execution_count": 14,
     "metadata": {},
     "output_type": "execute_result"
    }
   ],
   "source": [
    "def bootstrap_yield_curve(df, payments_per_year):\n",
    "    \"\"\"\n",
    "    Bootstrap method to determine the zero curve based on bond data.\n",
    "\n",
    "    Parameters:\n",
    "        df (pd.DataFrame): DataFrame containing bond data with columns 'Time to Maturity', 'Bond price',\n",
    "            'Bond Principal', 'Coupon per year'.\n",
    "        payments_per_year (int): Number of coupon payments per year.\n",
    "\n",
    "    Returns:\n",
    "        dict: A dictionary containing zero rates for various maturities.\n",
    "\n",
    "    This function uses the bootstrap method to determine the zero curve based on bond data provided in a DataFrame.\n",
    "    It calculates zero rates for different maturities by iterating through the bonds and considering their cash flows.\n",
    "    \"\"\"\n",
    "    zero_rates = {}\n",
    "\n",
    "    for index, bond in df.iterrows():\n",
    "        TTM = bond['Time to Maturity']\n",
    "        price = bond['Bond price']\n",
    "        principle = bond['Bond Principal']\n",
    "        coupon_rate = bond['Coupon per year'] * payments_per_year\n",
    "\n",
    "        if coupon_rate == 0:\n",
    "            # Zero-coupon bond\n",
    "            zero_rate = -np.log(price / principle) * 1 / TTM\n",
    "        else:\n",
    "            # Coupon-bearing bond\n",
    "            total_discounted_cash_flow = []\n",
    "            for t in np.arange(0.5, TTM + 0.5, 0.5):\n",
    "                cash_flow = coupon_rate\n",
    "\n",
    "                if t in zero_rates:\n",
    "                    discount_factor = np.exp(-zero_rates[t] * t)\n",
    "                    total_discounted_cash_flow.append(cash_flow * discount_factor)\n",
    "\n",
    "            coupon_payment = np.sum(total_discounted_cash_flow)\n",
    "\n",
    "            zero_rate = -np.log((price - coupon_payment) / (principle + coupon_rate)) * (1 / TTM)\n",
    "\n",
    "        zero_rates[TTM] = zero_rate\n",
    "        df.loc[index, 'zero_rate'] = zero_rate\n",
    "\n",
    "    return zero_rates\n",
    "\n",
    "\n",
    "bootstrap_yield_curve(bondtest_data, 0.5)"
   ]
  }
 ],
 "metadata": {
  "kernelspec": {
   "display_name": "base",
   "language": "python",
   "name": "python3"
  },
  "language_info": {
   "codemirror_mode": {
    "name": "ipython",
    "version": 3
   },
   "file_extension": ".py",
   "mimetype": "text/x-python",
   "name": "python",
   "nbconvert_exporter": "python",
   "pygments_lexer": "ipython3",
   "version": "3.9.13"
  }
 },
 "nbformat": 4,
 "nbformat_minor": 2
}
