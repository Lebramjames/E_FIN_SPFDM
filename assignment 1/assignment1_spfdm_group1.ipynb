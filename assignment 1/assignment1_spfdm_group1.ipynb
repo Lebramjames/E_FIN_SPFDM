{
 "cells": [
  {
   "cell_type": "code",
   "execution_count": 2,
   "metadata": {},
   "outputs": [],
   "source": [
    "# https://canvas.vu.nl/courses/72644/files/folder/Assignments\n",
    "import pandas as pd\n",
    "import numpy as np"
   ]
  },
  {
   "cell_type": "code",
   "execution_count": 4,
   "metadata": {},
   "outputs": [],
   "source": [
    "# # sofr rate: \n",
    "# folder = 'data'\n",
    "# df_sofr = pd.read_excel(folder + '/SOFR_data.xlsx')\n",
    "# df_sofr = df_sofr[['Effective Date', 'Rate Type', 'Rate (%)', '1st Percentile (%)',\n",
    "#        '25th Percentile (%)', '75th Percentile (%)', '99th Percentile (%)',\n",
    "#        'Volume ($Billions)']]\n",
    "# df_sofr['Date'] = pd.to_datetime(df_sofr['Effective Date'], format=\"%m/%d/%Y\")\n",
    "# df_sofr.index = df_sofr['Date']\n",
    "# df_sofr.drop(['Effective Date', 'Date'],axis=1, inplace=True)"
   ]
  },
  {
   "cell_type": "markdown",
   "metadata": {},
   "source": [
    "## Part 1: IRS"
   ]
  },
  {
   "cell_type": "code",
   "execution_count": 21,
   "metadata": {},
   "outputs": [
    {
     "data": {
      "text/html": [
       "<div>\n",
       "<style scoped>\n",
       "    .dataframe tbody tr th:only-of-type {\n",
       "        vertical-align: middle;\n",
       "    }\n",
       "\n",
       "    .dataframe tbody tr th {\n",
       "        vertical-align: top;\n",
       "    }\n",
       "\n",
       "    .dataframe thead th {\n",
       "        text-align: right;\n",
       "    }\n",
       "</style>\n",
       "<table border=\"1\" class=\"dataframe\">\n",
       "  <thead>\n",
       "    <tr style=\"text-align: right;\">\n",
       "      <th></th>\n",
       "      <th>Bond Principal</th>\n",
       "      <th>Time to Maturity</th>\n",
       "      <th>Coupon per year</th>\n",
       "      <th>Bond price</th>\n",
       "    </tr>\n",
       "  </thead>\n",
       "  <tbody>\n",
       "    <tr>\n",
       "      <th>0</th>\n",
       "      <td>100</td>\n",
       "      <td>0.25</td>\n",
       "      <td>0</td>\n",
       "      <td>97.5</td>\n",
       "    </tr>\n",
       "    <tr>\n",
       "      <th>1</th>\n",
       "      <td>100</td>\n",
       "      <td>0.50</td>\n",
       "      <td>0</td>\n",
       "      <td>94.9</td>\n",
       "    </tr>\n",
       "    <tr>\n",
       "      <th>2</th>\n",
       "      <td>100</td>\n",
       "      <td>1.00</td>\n",
       "      <td>0</td>\n",
       "      <td>90.0</td>\n",
       "    </tr>\n",
       "    <tr>\n",
       "      <th>3</th>\n",
       "      <td>100</td>\n",
       "      <td>1.50</td>\n",
       "      <td>8</td>\n",
       "      <td>96.0</td>\n",
       "    </tr>\n",
       "    <tr>\n",
       "      <th>4</th>\n",
       "      <td>100</td>\n",
       "      <td>2.00</td>\n",
       "      <td>12</td>\n",
       "      <td>101.6</td>\n",
       "    </tr>\n",
       "  </tbody>\n",
       "</table>\n",
       "</div>"
      ],
      "text/plain": [
       "   Bond Principal  Time to Maturity  Coupon per year  Bond price\n",
       "0             100              0.25                0        97.5\n",
       "1             100              0.50                0        94.9\n",
       "2             100              1.00                0        90.0\n",
       "3             100              1.50                8        96.0\n",
       "4             100              2.00               12       101.6"
      ]
     },
     "execution_count": 21,
     "metadata": {},
     "output_type": "execute_result"
    }
   ],
   "source": [
    "usbond_df = pd.read_excel('data/usbond_data.xlsx')\n",
    "df = pd.read_excel('data/bondtest_data.xlsx')\n",
    "\n",
    "EURIBOR_3months = 0.0398700\n",
    "EURIBOR_6months = 0.0405500\n",
    "EURIBOR_12months = 0.0402800\n",
    "\n",
    "initial_rates = [EURIBOR_3months, EURIBOR_6months, EURIBOR_12months]\n",
    "\n",
    "df\n"
   ]
  },
  {
   "cell_type": "code",
   "execution_count": 38,
   "metadata": {},
   "outputs": [
    {
     "name": "stdout",
     "output_type": "stream",
     "text": [
      "0\n",
      "1\n",
      "2\n",
      "3\n",
      "4\n",
      "{0.25: 0.10127123193715959, 0.5: 0.10469296074441824, 1.0: 0.10536051565782628, 1.5: 0.0038830816899018236, 2.0: -0.05640801789122627}\n"
     ]
    }
   ],
   "source": [
    "payments_per_year = 0.5  # (half-yearly)\n",
    "\n",
    "def bootstrap_yield_curve(test_df):\n",
    "    zero_rates = {}\n",
    "\n",
    "    for index, bond in test_df.iterrows():\n",
    "        print(index)\n",
    "        TTM = bond['Time to Maturity']\n",
    "        price = bond['Bond price']\n",
    "        principle = bond['Bond Principal']\n",
    "        coupon_rate = bond['Coupon per year'] * payments_per_year\n",
    "\n",
    "        if coupon_rate == 0:\n",
    "            # Zero-coupon bond\n",
    "            zero_rate = -np.log(price / principle) * 1 / TTM\n",
    "        else:\n",
    "            # Coupon-bearing bond\n",
    "            total_discounted_cash_flow = []\n",
    "            for t in np.arange(0.5, TTM + 0.5, 0.5):\n",
    "                cash_flow = coupon_rate\n",
    "\n",
    "                if t in zero_rates:\n",
    "                    discount_factor = np.exp(-zero_rates[t] * t)\n",
    "                    total_discounted_cash_flow += cash_flow * discount_factor\n",
    "\n",
    "            coupon_payment = total_discounted_cash_flow\n",
    "\n",
    "            zero_rate = -np.log((price + coupon_payment) / (principle + coupon_rate)) * (1 / TTM)\n",
    "\n",
    "        # Store zero rate using a unique identifier (e.g., index)\n",
    "        zero_rates[TTM] = zero_rate\n",
    "\n",
    "    return zero_rates\n",
    "\n",
    "result = bootstrap_yield_curve(df)\n",
    "print(result)\n"
   ]
  },
  {
   "cell_type": "code",
   "execution_count": 34,
   "metadata": {},
   "outputs": [
    {
     "name": "stdout",
     "output_type": "stream",
     "text": [
      "   Bond Principal  Time to Maturity  Coupon per year  Bond price\n",
      "0             100              0.25                0        97.5\n",
      "1             100              0.50                0        94.9\n",
      "2             100              1.00                0        90.0\n",
      "3             100              1.50                8        96.0\n",
      "4             100              2.00               12       101.6\n",
      "0\n",
      "1\n",
      "0\n",
      "1\n",
      "2\n",
      "[0.10127123193715959, 0.10469296074441824, 0.10536051565782628, 0.3141831621134138, 0.42069945953501603]\n"
     ]
    }
   ],
   "source": [
    "EURIBOR_3months = 0.0398700\n",
    "EURIBOR_6months = 0.0405500\n",
    "EURIBOR_12months = 0.0402800\n",
    "initial_rates = [EURIBOR_3months, EURIBOR_6months, EURIBOR_12months]\n",
    "\n",
    "#df['Bond Principal']\n",
    "print(df)\n",
    "\n",
    "\n",
    "#for i in range(len(df)):\n",
    "\n",
    "#print(df['Bond Principal'][0])\n",
    "\n",
    "\n",
    "coupon_payments_per_year = 2\n",
    "dt = df['Time to Maturity']\n",
    "price = df['Bond price']\n",
    "TTM = df['Time to Maturity']\n",
    "principle = df['Bond Principal']\n",
    "\n",
    "\n",
    "dt = 1/payments_per_year\n",
    "total_payments = TTM/dt\n",
    "\n",
    "zero_rates = []\n",
    "for i in range(len(df)):\n",
    "    TTM = df['Time to Maturity'][i]\n",
    "    price = df['Bond price'][i]\n",
    "    principle = df['Bond Principal'][i]\n",
    "\n",
    "    coupon_rate = df['Coupon per year'][i] / payments_per_year\n",
    "    if coupon_rate == 0:\n",
    "        zero_rate = -np.log(price / principle) * (1 / TTM)\n",
    "    else:\n",
    "        disc_coup = []\n",
    "        for j in range(i-1):\n",
    "            print(j)\n",
    "            disc_coup.append(-coupon_rate * np.exp(-zero_rates[j] * dt * (j + 1)))\n",
    "\n",
    "        \n",
    "        coupon_payment = np.sum(disc_coup)\n",
    "        zero_rate = -np.log((price + coupon_payment) / (principle+coupon_rate)) * (1 / TTM)\n",
    "\n",
    "    zero_rates.append(zero_rate)\n",
    "\n",
    "    # print(disc_coup, 'dis')\n",
    "print(zero_rates)"
   ]
  }
 ],
 "metadata": {
  "kernelspec": {
   "display_name": "base",
   "language": "python",
   "name": "python3"
  },
  "language_info": {
   "codemirror_mode": {
    "name": "ipython",
    "version": 3
   },
   "file_extension": ".py",
   "mimetype": "text/x-python",
   "name": "python",
   "nbconvert_exporter": "python",
   "pygments_lexer": "ipython3",
   "version": "3.9.13"
  }
 },
 "nbformat": 4,
 "nbformat_minor": 2
}
