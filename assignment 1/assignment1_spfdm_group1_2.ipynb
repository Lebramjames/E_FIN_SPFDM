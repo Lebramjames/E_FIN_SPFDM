{
 "cells": [
  {
   "cell_type": "code",
   "execution_count": 8,
   "metadata": {},
   "outputs": [],
   "source": [
    "import numpy as np\n",
    "import pandas as pd\n",
    "import matplotlib.pyplot as plt\n",
    "\n",
    "# packages computer assignment 1: \n",
    "import pandas as pd\n",
    "from scipy.optimize import minimize\n",
    "from scipy import stats\n",
    "from pandas.tseries.offsets import DateOffset\n",
    "import matplotlib.pyplot as plt\n",
    "import numpy as np\n",
    "np.set_printoptions(suppress=True)\n",
    "from scipy.stats import norm\n",
    "import statsmodels.api as sm\n",
    "import math\n",
    "from scipy.optimize import root\n",
    "\n",
    "np.random.seed(123)"
   ]
  },
  {
   "cell_type": "markdown",
   "metadata": {},
   "source": [
    "# Part 2"
   ]
  },
  {
   "cell_type": "markdown",
   "metadata": {},
   "source": [
    "### Previous assignment:"
   ]
  },
  {
   "cell_type": "code",
   "execution_count": null,
   "metadata": {},
   "outputs": [],
   "source": [
    "def calc_euler(S0, sigma, r, delta_t,N):\n",
    "    \"\"\"\n",
    "    goal: calculating the price of an asset using the Euler Method. \n",
    "\n",
    "    Input: \n",
    "    - S0 (float): Initial stock value (-1 value of the SP500 31 august)\n",
    "    - Sigma (float): fitted volatility  \n",
    "    - r (float): risk free rate\n",
    "    - delta_t (float): T/N\n",
    "    - N (float): Number of steps (Euler)\n",
    "\n",
    "    Output: \n",
    "    - stock (array)\n",
    "    \"\"\"\n",
    "\n",
    "    stock = np.zeros(N+1)\n",
    "    var_normdistributed = np.random.normal(0, 1, size=N)\n",
    "    stock[0] = S0\n",
    "\n",
    "    \n",
    "    for n in range(0,N):\n",
    "        stock[n+1] = stock[n] + stock[n] * (r *delta_t + sigma * np.sqrt(delta_t) * var_normdistributed[n])\n",
    "    return stock\n",
    "\n",
    "def calc_geombrownian(S0, sigma, T):\n",
    "    \"\"\"\n",
    "    Geometric Brownian motion\n",
    "\n",
    "    Input: \n",
    "    - S0 (float): Initial stock value (-1 value of the SP500 31 august)\n",
    "    - T (float): Maturity (0.25 = quarterly maturity) \n",
    "    - Sigma (float): fitted volatility \n",
    "    \n",
    "    Output: \n",
    "    - ST (float): stock value \n",
    "    \"\"\"\n",
    "\n",
    "    var_normdistributed = np.random.normal(0, 1)    \n",
    "    ST = S0 *np.exp((r - 0.5 * sigma**2)*T + sigma* np.sqrt(T)*var_normdistributed)\n",
    "    \n",
    "    return ST\n",
    "\n",
    "def calc_averagepayoff(S0, sigma, r, delta_t,K, T, N=3,M = 100, type = 'eu_call', method = 'euler'):\n",
    "    \"\"\"\n",
    "    Calculate the average payoff using different methods\n",
    "    \n",
    "    Input: \n",
    "    - S0 (float): Initial stock value (-1 value of the SP500 31 august)\n",
    "    - T (float): Maturity (0.25 = quarterly maturity) \n",
    "    - Sigma (float): fitted volatility  \n",
    "    - r (float): risk free rate\n",
    "    - delta_t (float): T/N\n",
    "    - N (float): Number of steps (Euler)\n",
    "    - M (float): number of simulations\n",
    "    - type (string): eu_call or asian_call\n",
    "    - method (string): euler or geom_brownian\n",
    "\n",
    "    Output: \n",
    "    - option_price (float)\n",
    "    \"\"\"\n",
    "    payoffs = np.zeros(M)\n",
    "\n",
    "    if type == 'eu_call':\n",
    "        for j in range(M):\n",
    "            if method == 'euler': \n",
    "                stock_path = calc_euler(S0, sigma, r, delta_t, N=N) \n",
    "                payoffs[j] = np.maximum(stock_path[-1] - K, 0)       \n",
    "            if method == 'geom_brownian':\n",
    "                stock_path = calc_geombrownian(S0, sigma, T)\n",
    "                payoffs[j] = np.maximum(stock_path - K, 0)\n",
    "\n",
    "    if type == 'asian_call':\n",
    "        for j in range(M):\n",
    "            stock_path = calc_euler(S0,sigma, r, delta_t, N=N)\n",
    "            payoffs[j] = np.maximum(np.mean(stock_path[-21:]) - K, 0)\n",
    "            \n",
    "    average_payoff = np.mean(payoffs)\n",
    "    option_price = np.exp(-r * T) * average_payoff\n",
    "\n",
    "    return option_price\n",
    "\n",
    "\n",
    "    \n",
    "def make_tree(S0, n, u, d):\n",
    "    \"\"\"\n",
    "    make a tree\n",
    "    \n",
    "    input:\n",
    "    - n (int) number of time periods\n",
    "    - u (double) up probability\n",
    "    - d (double) down probability\n",
    "    \"\"\"\n",
    "    \n",
    "    tree = np.zeros((n + 1, n + 1))\n",
    "\n",
    "    for j in range(n + 1):\n",
    "        for i in range(j + 1):\n",
    "            tree[i, j] = S0 * (d ** i) * (u ** (j - i))\n",
    "    return tree\n",
    "\n",
    "\n",
    "    r = 0.0086\n",
    "    n = 3  # Number of periods\n",
    "\n",
    "    tree = make_tree(S0, n, u, d)\n",
    "\n"
   ]
  },
  {
   "cell_type": "markdown",
   "metadata": {},
   "source": [
    "### Current assignment"
   ]
  },
  {
   "cell_type": "code",
   "execution_count": 9,
   "metadata": {},
   "outputs": [
    {
     "name": "stderr",
     "output_type": "stream",
     "text": [
      "C:\\Users\\bramg\\AppData\\Local\\Temp\\ipykernel_13324\\3694670563.py:15: FutureWarning: elementwise comparison failed; returning scalar instead, but in the future will perform elementwise comparison\n",
      "  filtered_sp500index_df.apply(lambda row: '.' not in row.values, axis=1)\n"
     ]
    }
   ],
   "source": [
    "sp500index_file = r'data\\SP500.csv'\n",
    "sp500index_df = pd.read_csv(sp500index_file)\n",
    "sp500index_df.head(10)\n",
    "\n",
    "sp500index_df['DATE'] = pd.to_datetime(sp500index_df['DATE'])\n",
    "sp500index_df.set_index('DATE', inplace=True)\n",
    "\n",
    "cutoff_date = pd.Timestamp('2023-08-31')\n",
    "num_months= 10*(11+4) - 44\n",
    "\n",
    "start_date = cutoff_date - DateOffset(months=num_months)\n",
    "filtered_sp500index_df = sp500index_df.loc[start_date:cutoff_date]\n",
    "\n",
    "filtered_sp500index_df = filtered_sp500index_df[\n",
    "    filtered_sp500index_df.apply(lambda row: '.' not in row.values, axis=1)\n",
    "].astype(float)\n",
    "\n",
    "\n",
    "S0 = filtered_sp500index_df.iloc[-1][0]\n",
    "logreturn = np.log(filtered_sp500index_df / filtered_sp500index_df.shift(-1)).dropna()"
   ]
  },
  {
   "cell_type": "code",
   "execution_count": 10,
   "metadata": {},
   "outputs": [],
   "source": [
    "def fit_ols_logreturn(logreturn):\n",
    "    \"\"\"\n",
    "    Fit OLS to calculate mu_tilde and sigma_tilde using statsmodels.\n",
    "\n",
    "    input: \n",
    "    - data (dataframe): SP500 data\n",
    "\n",
    "    output: \n",
    "    - mu_tilde (double)\n",
    "    - sigma_tilde (double)\n",
    "    \"\"\"\n",
    "    y = logreturn\n",
    "    X = sm.add_constant(np.ones(len(y)))  # Adding a constant for intercept\n",
    "    \n",
    "    model = sm.OLS(y, X).fit()\n",
    "    \n",
    "    mu_tilde = model.params[0]\n",
    "    sigma_tilde = np.sqrt(model.mse_resid)\n",
    "    \n",
    "    return mu_tilde, sigma_tilde\n",
    "\n",
    "\n",
    "mu, sigma = fit_ols_logreturn(logreturn)"
   ]
  },
  {
   "cell_type": "code",
   "execution_count": 23,
   "metadata": {},
   "outputs": [
    {
     "name": "stdout",
     "output_type": "stream",
     "text": [
      "-186.34283749651829\n"
     ]
    },
    {
     "data": {
      "text/plain": [
       "-1076083969.5431137"
      ]
     },
     "execution_count": 23,
     "metadata": {},
     "output_type": "execute_result"
    }
   ],
   "source": [
    "def make_meanreverting_binmoialtree(S0, mu, alpha, sigma, r, dt, N):\n",
    "    \"\"\"\n",
    "    make a tree\n",
    "\n",
    "    \"\"\"\n",
    "    df = np.exp(-r * dt) #discount factor (differs over time?)\n",
    "\n",
    "    u = np.exp(sigma * np.sqrt(dt))  # up factor\n",
    "    d = 1 / u  # down factor\n",
    "    p = 0.5 + 0.5 * (alpha * (mu - np.log(S0)) * np.sqrt(dt) / sigma)  # probability of up move\n",
    "\n",
    "    price_tree = np.zeros((N+1, N+1))\n",
    "    price_tree[0, 0] = S0\n",
    "\n",
    "    for i in range(1, N + 1):\n",
    "        price_tree[i, 0] = price_tree[i - 1, 0] * u\n",
    "        for j in range(1, i + 1):\n",
    "            price_tree[i, j] = price_tree[i - 1, j - 1] * d\n",
    "    return price_tree, p, df\n",
    "\n",
    "def value_meanreverting_binomialtree(price_tree, N, p, df, K):\n",
    "    option_tree = np.maximum(price_tree[-1] - K, 0)  # Replace K with strike price\n",
    "    print(p)\n",
    "    # Backward induction for option pricing\n",
    "    for i in range(N - 1, -1, -1):\n",
    "        for j in range(i + 1):\n",
    "            option_tree[j] = (p * option_tree[j] + (1 - p) * option_tree[j + 1]) * df\n",
    "    return option_tree[0]\n",
    "\n",
    "\n",
    "T= 3 #steps\n",
    "N = 3 #months\n",
    "K = 4600\n",
    "dt = T/N\n",
    "alpha = 0.2\n",
    "r = 0.05\n",
    "\n",
    "price_tree, p, df = make_meanreverting_binmoialtree(S0, mu, alpha, sigma, r, dt, N)\n",
    "value_meanreverting_binomialtree(price_tree, N, p, df, K)"
   ]
  },
  {
   "cell_type": "markdown",
   "metadata": {},
   "source": [
    "## Mean Reverting using monte carlo: \n"
   ]
  }
 ],
 "metadata": {
  "kernelspec": {
   "display_name": "base",
   "language": "python",
   "name": "python3"
  },
  "language_info": {
   "codemirror_mode": {
    "name": "ipython",
    "version": 3
   },
   "file_extension": ".py",
   "mimetype": "text/x-python",
   "name": "python",
   "nbconvert_exporter": "python",
   "pygments_lexer": "ipython3",
   "version": "3.9.13"
  }
 },
 "nbformat": 4,
 "nbformat_minor": 2
}
