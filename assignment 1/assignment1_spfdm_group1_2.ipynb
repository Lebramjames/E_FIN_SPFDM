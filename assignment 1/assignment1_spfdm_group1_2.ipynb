{
 "cells": [
  {
   "cell_type": "code",
   "execution_count": 2,
   "metadata": {},
   "outputs": [],
   "source": [
    "import numpy as np\n",
    "import pandas as pd\n",
    "import matplotlib.pyplot as plt\n",
    "\n",
    "# packages computer assignment 1: \n",
    "import pandas as pd\n",
    "from scipy.optimize import minimize\n",
    "from scipy import stats\n",
    "from pandas.tseries.offsets import DateOffset\n",
    "import matplotlib.pyplot as plt\n",
    "import numpy as np\n",
    "np.set_printoptions(suppress=True)\n",
    "from scipy.stats import norm\n",
    "import statsmodels.api as sm\n",
    "import math\n",
    "from scipy.optimize import root\n",
    "\n",
    "np.random.seed(123)"
   ]
  },
  {
   "cell_type": "markdown",
   "metadata": {},
   "source": [
    "# Part 2"
   ]
  },
  {
   "cell_type": "markdown",
   "metadata": {},
   "source": [
    "### Previous assignment:"
   ]
  },
  {
   "cell_type": "code",
   "execution_count": null,
   "metadata": {},
   "outputs": [],
   "source": [
    "def calc_euler(S0, sigma, r, delta_t,N):\n",
    "    \"\"\"\n",
    "    goal: calculating the price of an asset using the Euler Method. \n",
    "\n",
    "    Input: \n",
    "    - S0 (float): Initial stock value (-1 value of the SP500 31 august)\n",
    "    - Sigma (float): fitted volatility  \n",
    "    - r (float): risk free rate\n",
    "    - delta_t (float): T/N\n",
    "    - N (float): Number of steps (Euler)\n",
    "\n",
    "    Output: \n",
    "    - stock (array)\n",
    "    \"\"\"\n",
    "\n",
    "    stock = np.zeros(N+1)\n",
    "    var_normdistributed = np.random.normal(0, 1, size=N)\n",
    "    stock[0] = S0\n",
    "\n",
    "    for n in range(0,N):\n",
    "        stock[n+1] = stock[n] + stock[n] * (r *delta_t + sigma * np.sqrt(delta_t) * var_normdistributed[n])\n",
    "    return stock\n",
    "\n",
    "def calc_geombrownian(S0, sigma, T):\n",
    "    \"\"\"\n",
    "    Geometric Brownian motion\n",
    "\n",
    "    Input: \n",
    "    - S0 (float): Initial stock value (-1 value of the SP500 31 august)\n",
    "    - T (float): Maturity (0.25 = quarterly maturity) \n",
    "    - Sigma (float): fitted volatility \n",
    "    \n",
    "    Output: \n",
    "    - ST (float): stock value \n",
    "    \"\"\"\n",
    "\n",
    "    var_normdistributed = np.random.normal(0, 1)    \n",
    "    ST = S0 *np.exp((r - 0.5 * sigma**2)*T + sigma* np.sqrt(T)*var_normdistributed)\n",
    "    \n",
    "    return ST\n",
    "\n",
    "\n",
    "def calc_ornsteinuhlenbeck():\n",
    "    return\n",
    "\n",
    "\n",
    "def calc_averagepayoff(S0, sigma, r, delta_t,K, T, N=3,M = 100, type = 'eu_call', method = 'euler'):\n",
    "    \"\"\"\n",
    "    Calculate the average payoff using different methods\n",
    "    \n",
    "    Input: \n",
    "    - S0 (float): Initial stock value (-1 value of the SP500 31 august)\n",
    "    - T (float): Maturity (0.25 = quarterly maturity) \n",
    "    - Sigma (float): fitted volatility  \n",
    "    - r (float): risk free rate\n",
    "    - delta_t (float): T/N\n",
    "    - N (float): Number of steps (Euler)\n",
    "    - M (float): number of simulations\n",
    "    - type (string): eu_call or asian_call\n",
    "    - method (string): euler or geom_brownian\n",
    "\n",
    "    Output: \n",
    "    - option_price (float)\n",
    "    \"\"\"\n",
    "    payoffs = np.zeros(M)\n",
    "\n",
    "    if type == 'eu_call':\n",
    "        for j in range(M):\n",
    "            if method == 'euler': \n",
    "                stock_path = calc_euler(S0, sigma, r, delta_t, N=N) \n",
    "                payoffs[j] = np.maximum(stock_path[-1] - K, 0)       \n",
    "            if method == 'geom_brownian':\n",
    "                stock_path = calc_geombrownian(S0, sigma, T)\n",
    "                payoffs[j] = np.maximum(stock_path - K, 0)\n",
    "\n",
    "    if type == 'asian_call':\n",
    "        for j in range(M):\n",
    "            stock_path = calc_euler(S0,sigma, r, delta_t, N=N)\n",
    "            payoffs[j] = np.maximum(np.mean(stock_path[-21:]) - K, 0)\n",
    "            \n",
    "    average_payoff = np.mean(payoffs)\n",
    "    option_price = np.exp(-r * T) * average_payoff\n",
    "\n",
    "    return option_price\n",
    "\n",
    "\n",
    "    \n",
    "def make_tree(S0, n, u, d):\n",
    "    \"\"\"\n",
    "    make a tree\n",
    "    \n",
    "    input:\n",
    "    - n (int) number of time periods\n",
    "    - u (double) up probability\n",
    "    - d (double) down probability\n",
    "    \"\"\"\n",
    "    \n",
    "    tree = np.zeros((n + 1, n + 1))\n",
    "\n",
    "    for j in range(n + 1):\n",
    "        for i in range(j + 1):\n",
    "            tree[i, j] = S0 * (d ** i) * (u ** (j - i))\n",
    "    return tree\n",
    "\n",
    "\n",
    "    r = 0.0086\n",
    "    n = 3  # Number of periods\n",
    "\n",
    "    tree = make_tree(S0, n, u, d)\n",
    "\n"
   ]
  },
  {
   "cell_type": "markdown",
   "metadata": {},
   "source": [
    "### Current assignment"
   ]
  },
  {
   "cell_type": "code",
   "execution_count": 3,
   "metadata": {},
   "outputs": [
    {
     "name": "stderr",
     "output_type": "stream",
     "text": [
      "C:\\Users\\bramg\\AppData\\Local\\Temp\\ipykernel_33676\\413326341.py:15: FutureWarning: elementwise comparison failed; returning scalar instead, but in the future will perform elementwise comparison\n",
      "  filtered_sp500index_df.apply(lambda row: '.' not in row.values, axis=1)\n"
     ]
    }
   ],
   "source": [
    "sp500index_file = r'data\\SP500.csv'\n",
    "sp500index_df = pd.read_csv(sp500index_file)\n",
    "sp500index_df.head(10)\n",
    "\n",
    "sp500index_df['DATE'] = pd.to_datetime(sp500index_df['DATE'])\n",
    "sp500index_df.set_index('DATE', inplace=True)\n",
    "\n",
    "cutoff_date = pd.Timestamp('2023-08-31')\n",
    "num_months= 10*(11+4) - 44\n",
    "\n",
    "start_date = cutoff_date - DateOffset(months=num_months)\n",
    "filtered_sp500index_df = sp500index_df.loc[start_date:cutoff_date]\n",
    "\n",
    "filtered_sp500index_df = filtered_sp500index_df[\n",
    "    filtered_sp500index_df.apply(lambda row: '.' not in row.values, axis=1)\n",
    "].astype(float)\n",
    "\n",
    "\n",
    "S0 = filtered_sp500index_df.iloc[-1][0]\n",
    "logreturn = np.log(filtered_sp500index_df / filtered_sp500index_df.shift(-1)).dropna()"
   ]
  },
  {
   "cell_type": "code",
   "execution_count": 125,
   "metadata": {},
   "outputs": [],
   "source": [
    "def fit_ols_logreturn(logreturn):\n",
    "    \"\"\"\n",
    "    Fit OLS to calculate mu_tilde and sigma_tilde using statsmodels.\n",
    "\n",
    "    input: \n",
    "    - data (dataframe): SP500 data\n",
    "\n",
    "    output: \n",
    "    - mu_tilde (double)\n",
    "    - sigma_tilde (double)\n",
    "    \"\"\"\n",
    "    y = logreturn\n",
    "    X = sm.add_constant(np.ones(len(y)))  # Adding a constant for intercept\n",
    "    \n",
    "    model = sm.OLS(y, X).fit()\n",
    "    \n",
    "    mu_tilde = model.params[0]\n",
    "    sigma_tilde = np.sqrt(model.mse_resid)\n",
    "    \n",
    "    return mu_tilde, sigma_tilde\n",
    "\n",
    "\n",
    "mu, sigma = fit_ols_logreturn(logreturn)"
   ]
  },
  {
   "cell_type": "code",
   "execution_count": 126,
   "metadata": {},
   "outputs": [
    {
     "data": {
      "text/html": [
       "<div>\n",
       "<style scoped>\n",
       "    .dataframe tbody tr th:only-of-type {\n",
       "        vertical-align: middle;\n",
       "    }\n",
       "\n",
       "    .dataframe tbody tr th {\n",
       "        vertical-align: top;\n",
       "    }\n",
       "\n",
       "    .dataframe thead th {\n",
       "        text-align: right;\n",
       "    }\n",
       "</style>\n",
       "<table border=\"1\" class=\"dataframe\">\n",
       "  <thead>\n",
       "    <tr style=\"text-align: right;\">\n",
       "      <th></th>\n",
       "      <th>SP500</th>\n",
       "    </tr>\n",
       "    <tr>\n",
       "      <th>DATE</th>\n",
       "      <th></th>\n",
       "    </tr>\n",
       "  </thead>\n",
       "  <tbody>\n",
       "    <tr>\n",
       "      <th>2014-11-01</th>\n",
       "      <td>0.004197</td>\n",
       "    </tr>\n",
       "    <tr>\n",
       "      <th>2014-12-01</th>\n",
       "      <td>0.031533</td>\n",
       "    </tr>\n",
       "    <tr>\n",
       "      <th>2015-01-01</th>\n",
       "      <td>-0.053439</td>\n",
       "    </tr>\n",
       "    <tr>\n",
       "      <th>2015-02-01</th>\n",
       "      <td>0.017549</td>\n",
       "    </tr>\n",
       "    <tr>\n",
       "      <th>2015-03-01</th>\n",
       "      <td>-0.008485</td>\n",
       "    </tr>\n",
       "    <tr>\n",
       "      <th>...</th>\n",
       "      <td>...</td>\n",
       "    </tr>\n",
       "    <tr>\n",
       "      <th>2023-03-01</th>\n",
       "      <td>-0.014536</td>\n",
       "    </tr>\n",
       "    <tr>\n",
       "      <th>2023-04-01</th>\n",
       "      <td>-0.002479</td>\n",
       "    </tr>\n",
       "    <tr>\n",
       "      <th>2023-05-01</th>\n",
       "      <td>-0.062719</td>\n",
       "    </tr>\n",
       "    <tr>\n",
       "      <th>2023-06-01</th>\n",
       "      <td>-0.030664</td>\n",
       "    </tr>\n",
       "    <tr>\n",
       "      <th>2023-07-01</th>\n",
       "      <td>0.015803</td>\n",
       "    </tr>\n",
       "  </tbody>\n",
       "</table>\n",
       "<p>105 rows × 1 columns</p>\n",
       "</div>"
      ],
      "text/plain": [
       "               SP500\n",
       "DATE                \n",
       "2014-11-01  0.004197\n",
       "2014-12-01  0.031533\n",
       "2015-01-01 -0.053439\n",
       "2015-02-01  0.017549\n",
       "2015-03-01 -0.008485\n",
       "...              ...\n",
       "2023-03-01 -0.014536\n",
       "2023-04-01 -0.002479\n",
       "2023-05-01 -0.062719\n",
       "2023-06-01 -0.030664\n",
       "2023-07-01  0.015803\n",
       "\n",
       "[105 rows x 1 columns]"
      ]
     },
     "execution_count": 126,
     "metadata": {},
     "output_type": "execute_result"
    }
   ],
   "source": [
    "logreturn"
   ]
  },
  {
   "cell_type": "markdown",
   "metadata": {},
   "source": [
    "## Mean reverting: \n",
    "\n",
    "$$dX_{t}=\\theta(\\mu-X_{t})dt+\\sigma dW_{t}$$"
   ]
  },
  {
   "cell_type": "code",
   "execution_count": 148,
   "metadata": {},
   "outputs": [
    {
     "data": {
      "text/plain": [
       "(4700.583104594036, -0.007571228704087814, 2.8063049790815144)"
      ]
     },
     "execution_count": 148,
     "metadata": {},
     "output_type": "execute_result"
    }
   ],
   "source": []
  },
  {
   "cell_type": "code",
   "execution_count": 146,
   "metadata": {},
   "outputs": [
    {
     "data": {
      "text/plain": [
       "-0.007571228704087814"
      ]
     },
     "execution_count": 146,
     "metadata": {},
     "output_type": "execute_result"
    }
   ],
   "source": [
    "mu"
   ]
  },
  {
   "cell_type": "code",
   "execution_count": 5,
   "metadata": {},
   "outputs": [
    {
     "name": "stdout",
     "output_type": "stream",
     "text": [
      "-18.18428374965183\n"
     ]
    },
    {
     "data": {
      "text/plain": [
       "-903447.4100293848"
      ]
     },
     "execution_count": 5,
     "metadata": {},
     "output_type": "execute_result"
    }
   ],
   "source": [
    "def make_meanreverting_binmoialtree(S0, mu, alpha, sigma, r, dt, N):\n",
    "    \"\"\"\n",
    "    make a tree\n",
    "\n",
    "    \"\"\"\n",
    "    df = np.exp(-r * dt) #discount factor (differs over time?)\n",
    "\n",
    "    u = np.exp(sigma * np.sqrt(dt))  # up factor\n",
    "    d = 1 / u  # down factor\n",
    "    p = 0.5 + 0.5 * (alpha * (mu - np.log(S0)) * np.sqrt(dt) / sigma)  # probability of up move\n",
    "\n",
    "    price_tree = np.zeros((N+1, N+1))\n",
    "    price_tree[0, 0] = S0\n",
    "\n",
    "    for i in range(1, N + 1):\n",
    "        price_tree[i, 0] = price_tree[i - 1, 0] * u\n",
    "        for j in range(1, i + 1):\n",
    "            price_tree[i, j] = price_tree[i - 1, j - 1] * d\n",
    "    return price_tree, p, df\n",
    "\n",
    "def value_meanreverting_binomialtree(price_tree, N, p, df, K):\n",
    "    option_tree = np.maximum(price_tree[-1] - K, 0)  # Replace K with strike price\n",
    "    print(p)\n",
    "    # Backward induction for option pricing\n",
    "    for i in range(N - 1, -1, -1):\n",
    "        for j in range(i + 1):\n",
    "            option_tree[j] = (p * option_tree[j] + (1 - p) * option_tree[j + 1]) * df\n",
    "    return option_tree[0]\n",
    "\n",
    "T= 3 #steps\n",
    "N = 3 #months\n",
    "K = 4600 \n",
    "dt = T/N\n",
    "alpha = 0.2\n",
    "r = 0.05\n",
    "\n",
    "price_tree, p, df = make_meanreverting_binmoialtree(S0, mu, alpha, sigma, r, dt, N)\n",
    "value_meanreverting_binomialtree(price_tree, N, p, df, K)"
   ]
  },
  {
   "cell_type": "markdown",
   "metadata": {},
   "source": [
    "## Binomial "
   ]
  },
  {
   "cell_type": "code",
   "execution_count": null,
   "metadata": {},
   "outputs": [],
   "source": []
  },
  {
   "cell_type": "markdown",
   "metadata": {},
   "source": [
    "## Mean Reverting using monte carlo: \n"
   ]
  },
  {
   "cell_type": "code",
   "execution_count": 150,
   "metadata": {},
   "outputs": [],
   "source": [
    "import numpy as np\n",
    "import scipy.optimize as optimize\n",
    "\n",
    "def log_likelihood(params, data):\n",
    "    theta, mu, sigma = params\n",
    "    dt = delta_t  # Assuming time increments are 1, adjust as needed\n",
    "    term1 = -np.log(sigma * np.sqrt(2 * np.pi))\n",
    "    term2 = -((data[1:] - data[:-1] - theta * (mu - data[:-1]) * dt) ** 2) / (2 * sigma ** 2 * dt)\n",
    "    return np.sum(term1 + term2)\n",
    "\n",
    "def fit_ou_parameters(log_returns, method):\n",
    "    # Initial guess for the parameters\n",
    "   # Initial guess for the parameters\n",
    "    initial_guess = [0.5, np.mean(log_returns), np.std(log_returns)]\n",
    "\n",
    "    # Minimize the negative log likelihood\n",
    "    result = optimize.minimize(lambda params: -log_likelihood(params, log_returns),\n",
    "                               initial_guess, method=method,\n",
    "                               bounds=((1e-5, None), (None, None), (1e-5, None)))\n",
    "\n",
    "    if result.success:\n",
    "        theta, mu, sigma = result.x\n",
    "        return theta, mu, sigma\n",
    "    else:\n",
    "        raise Exception('Optimization failed. Message: {}'.format(result.message))\n",
    "\n",
    "# Example usage\n",
    "\n",
    "theta, mu, sigma = fit_ou_parameters(logreturn.values, method='L-BFGS-B')"
   ]
  },
  {
   "cell_type": "code",
   "execution_count": 152,
   "metadata": {},
   "outputs": [
    {
     "data": {
      "text/plain": [
       "array([4517.01      , -791.13444558,  138.55480761, ...,    0.11197136,\n",
       "         -0.07039425,    0.0259466 ])"
      ]
     },
     "execution_count": 152,
     "metadata": {},
     "output_type": "execute_result"
    }
   ],
   "source": [
    "def sim_ornsteinuhlenbeck(S0, sigma, r, delta_t,  theta, N=N, mu=K):\n",
    "    \"\"\"\n",
    "    Ornstein Ulhenbeck proce\n",
    "    \n",
    "    \"\"\"    \n",
    "    stock_path = np.zeros(N+1)\n",
    "    stock_path[0] = S0\n",
    "\n",
    "    for i in range(1, N+1):\n",
    "        Z = np.random.normal(0, 1)\n",
    "        stock_path[i] = stock_path[i-1] + theta * (mu - stock_path[i-1]) * delta_t + sigma * Z * np.sqrt(delta_t)\n",
    "\n",
    "    return stock_path\n",
    "\n",
    "sim_ornsteinuhlenbeck(S0, sigma, r, delta_t,  theta, N=N, mu=mu)"
   ]
  },
  {
   "cell_type": "code",
   "execution_count": 151,
   "metadata": {},
   "outputs": [],
   "source": [
    "\n",
    "\n",
    "def sim_geombrownian(S0, sigma, T, r):\n",
    "    \"\"\"\n",
    "    Geometric Brownian motion\n",
    "\n",
    "    Input: \n",
    "    - S0 (float): Initial stock value (-1 value of the SP500 31 august)\n",
    "    - T (float): Maturity (0.25 = quarterly maturity) \n",
    "    - Sigma (float): fitted volatility \n",
    "    \n",
    "    Output: \n",
    "    - ST (float): stock value \n",
    "    \"\"\"\n",
    "\n",
    "    var_normdistributed = np.random.normal(0, 1)    \n",
    "    ST = S0 *np.exp((r - 0.5 * sigma**2)*T + sigma* np.sqrt(T)*var_normdistributed)\n",
    "    \n",
    "    return ST"
   ]
  },
  {
   "cell_type": "code",
   "execution_count": 117,
   "metadata": {},
   "outputs": [
    {
     "data": {
      "text/plain": [
       "-0.007442677166456411"
      ]
     },
     "execution_count": 117,
     "metadata": {},
     "output_type": "execute_result"
    }
   ],
   "source": [
    "def sim_ornstein_uhlenbeck_vectorized(S0, sigma, r, delta_t, theta, N, mu):\n",
    "    Z = np.random.normal(0, 1, N)\n",
    "    stock_path = np.zeros(N + 1)\n",
    "    stock_path[0] = S0\n",
    "\n",
    "    for i in range(1, N + 1):\n",
    "        drift = theta * (mu - stock_path[i - 1]) * delta_t\n",
    "        diffusion = sigma * Z[i - 1] * np.sqrt(delta_t)\n",
    "        stock_path[i] = stock_path[i - 1] + drift + diffusion\n",
    "\n",
    "    return stock_path\n",
    "mu\n",
    "# sim_ornstein_uhlenbeck_vectorized(S0, sigma, r, delta_t, theta, N, mu)"
   ]
  },
  {
   "cell_type": "code",
   "execution_count": null,
   "metadata": {},
   "outputs": [],
   "source": [
    "def sim_ornsteinuhlenbeck_vectorized(S0, sigma, r, delta_t, theta, N, mu):\n",
    "    Z = np.random.normal(0, 1, N)\n",
    "    stock_path = S0 + np.cumsum(theta * (mu - S0) * delta_t + sigma * Z * np.sqrt(delta_t))\n",
    "    np.insert(stock_path, 0, S0)\n",
    "    return np.insert(stock_path, 0, S0)  # Insert initial value at the start\n",
    "\n",
    "def sim_montecarlo(function, S0, sigma, r, delta_t, theta, N, mu):\n",
    "    \n",
    "    if method == 'ornstein_uhlenbeck': \n",
    "        stock_path = sim_ornsteinuhlenbeck_vectorized(S0, sigma, r, delta_t, theta, N, mu)            \n",
    "    elif method == \"geometric_brownian\":\n",
    "        stock_path = sim_geombrownian(S0, sigma, T, r)\n",
    "    calc_payoff\n",
    "\n",
    "def calc_payoff(option_type, stock_path, K):\n",
    "    \"\"\"\"\n",
    "    \n",
    "    \"\"\"\n",
    "\n",
    "    if option_type ==\"eu_call\":\n",
    "        return np.maximum(stock_path - K, 0)\n",
    "    \n",
    "    if option_type ==\"eu_put\":\n",
    "        return np.maximum(K - stock_path, 0)\n",
    "    else: \n",
    "        return ValueError('Invalid option type')    \n",
    "\n",
    "def calc_averagepayoff():\n",
    "    \"\"\"\n",
    "    \"\"\"\n",
    "\n",
    "    for j in range(M):\n"
   ]
  },
  {
   "cell_type": "code",
   "execution_count": 63,
   "metadata": {},
   "outputs": [
    {
     "name": "stdout",
     "output_type": "stream",
     "text": [
      "0.0\n",
      "0.1\n",
      "0.2\n",
      "0.30000000000000004\n",
      "0.4\n",
      "0.5\n",
      "0.6000000000000001\n",
      "0.7000000000000001\n",
      "0.8\n",
      "0.9\n",
      "1.0\n",
      "1.1\n"
     ]
    }
   ],
   "source": [
    "\n",
    "\n",
    "def sim_geombrownian(S0, sigma, T, r):\n",
    "    \"\"\"\n",
    "    Geometric Brownian motion\n",
    "\n",
    "    Input: \n",
    "    - S0 (float): Initial stock value (-1 value of the SP500 31 august)\n",
    "    - T (float): Maturity (0.25 = quarterly maturity) \n",
    "    - Sigma (float): fitted volatility \n",
    "    \n",
    "    Output: \n",
    "    - ST (float): stock value \n",
    "    \"\"\"\n",
    "\n",
    "    var_normdistributed = np.random.normal(0, 1)    \n",
    "    ST = S0 *np.exp((r - 0.5 * sigma**2)*T + sigma* np.sqrt(T)*var_normdistributed)\n",
    "    \n",
    "    return ST\n",
    "\n",
    "\n",
    "\n",
    "def run_montecarlosimulation(function, )\n",
    "    for j in range(M):\n",
    "\n",
    "\n",
    "def calc_averagepayoff(S0, sigma, r, delta_t,K, T, N=3,M = 100, type = 'eu_call', method = 'ornstein_uhlenbeck', theta = None):\n",
    "\n",
    "    payoffs = np.zeros(M)\n",
    "\n",
    "    for j in range(M):\n",
    "        if method == 'ornstein_uhlenbeck': \n",
    "            stock_path = sim_ornsteinuhlenbeck(S0, sigma, r, delta_t, theta, N=N, mu=S0)[-1]            \n",
    "        elif method == \"geometric_brownian\":\n",
    "            stock_path = sim_geombrownian(S0, sigma, T, r)\n",
    "            \n",
    "        payoffs[j] = np.maximum(stock_path - K, 0)       \n",
    "\n",
    "    average_payoff = np.mean(payoffs)\n",
    "    option_price = np.exp(-r * T) * average_payoff\n",
    "\n",
    "    return option_price, payoffs\n",
    "\n",
    "\n",
    "T = 0.25\n",
    "strike = 4600\n",
    "N = 1000\n",
    "delta_t = T / N\n",
    "M = 1\n",
    "\n",
    "methods = ['ornstein_uhlenbeck', 'geometric_brownian']\n",
    "results = {}\n",
    "stock_paths = {}\n",
    "thetas = np.arange(0,1.2, 0.1)\n",
    "\n",
    "\n",
    "for method in methods:\n",
    "    if method=='ornstein_uhlenbeck':\n",
    "        results[method] = {}\n",
    "        stock_paths[method] = {}\n",
    "        for theta in thetas:\n",
    "            print(theta) \n",
    "            results[method][theta] , stock_paths[method][theta] = calc_averagepayoff(S0, sigma, r, delta_t,K, T,N , M = 1, type = 'eu_call', method = method, theta = theta)\n",
    "    else: \n",
    "        results[method] , _ = calc_averagepayoff(S0, sigma, r, delta_t,K, T,N , M = 100, type = 'eu_call', method = method)"
   ]
  },
  {
   "cell_type": "code",
   "execution_count": 53,
   "metadata": {},
   "outputs": [
    {
     "data": {
      "text/plain": [
       "{'ornstein_uhlenbeck': {0.0: array([0., 0., 0., 0., 0., 0., 0., 0., 0., 0., 0., 0., 0., 0., 0., 0., 0.,\n",
       "         0., 0., 0., 0., 0., 0., 0., 0., 0., 0., 0., 0., 0., 0., 0., 0., 0.,\n",
       "         0., 0., 0., 0., 0., 0., 0., 0., 0., 0., 0., 0., 0., 0., 0., 0., 0.,\n",
       "         0., 0., 0., 0., 0., 0., 0., 0., 0., 0., 0., 0., 0., 0., 0., 0., 0.,\n",
       "         0., 0., 0., 0., 0., 0., 0., 0., 0., 0., 0., 0., 0., 0., 0., 0., 0.,\n",
       "         0., 0., 0., 0., 0., 0., 0., 0., 0., 0., 0., 0., 0., 0., 0.]),\n",
       "  0.1: array([0., 0., 0., 0., 0., 0., 0., 0., 0., 0., 0., 0., 0., 0., 0., 0., 0.,\n",
       "         0., 0., 0., 0., 0., 0., 0., 0., 0., 0., 0., 0., 0., 0., 0., 0., 0.,\n",
       "         0., 0., 0., 0., 0., 0., 0., 0., 0., 0., 0., 0., 0., 0., 0., 0., 0.,\n",
       "         0., 0., 0., 0., 0., 0., 0., 0., 0., 0., 0., 0., 0., 0., 0., 0., 0.,\n",
       "         0., 0., 0., 0., 0., 0., 0., 0., 0., 0., 0., 0., 0., 0., 0., 0., 0.,\n",
       "         0., 0., 0., 0., 0., 0., 0., 0., 0., 0., 0., 0., 0., 0., 0.]),\n",
       "  0.2: array([0., 0., 0., 0., 0., 0., 0., 0., 0., 0., 0., 0., 0., 0., 0., 0., 0.,\n",
       "         0., 0., 0., 0., 0., 0., 0., 0., 0., 0., 0., 0., 0., 0., 0., 0., 0.,\n",
       "         0., 0., 0., 0., 0., 0., 0., 0., 0., 0., 0., 0., 0., 0., 0., 0., 0.,\n",
       "         0., 0., 0., 0., 0., 0., 0., 0., 0., 0., 0., 0., 0., 0., 0., 0., 0.,\n",
       "         0., 0., 0., 0., 0., 0., 0., 0., 0., 0., 0., 0., 0., 0., 0., 0., 0.,\n",
       "         0., 0., 0., 0., 0., 0., 0., 0., 0., 0., 0., 0., 0., 0., 0.]),\n",
       "  0.30000000000000004: array([0., 0., 0., 0., 0., 0., 0., 0., 0., 0., 0., 0., 0., 0., 0., 0., 0.,\n",
       "         0., 0., 0., 0., 0., 0., 0., 0., 0., 0., 0., 0., 0., 0., 0., 0., 0.,\n",
       "         0., 0., 0., 0., 0., 0., 0., 0., 0., 0., 0., 0., 0., 0., 0., 0., 0.,\n",
       "         0., 0., 0., 0., 0., 0., 0., 0., 0., 0., 0., 0., 0., 0., 0., 0., 0.,\n",
       "         0., 0., 0., 0., 0., 0., 0., 0., 0., 0., 0., 0., 0., 0., 0., 0., 0.,\n",
       "         0., 0., 0., 0., 0., 0., 0., 0., 0., 0., 0., 0., 0., 0., 0.]),\n",
       "  0.4: array([0., 0., 0., 0., 0., 0., 0., 0., 0., 0., 0., 0., 0., 0., 0., 0., 0.,\n",
       "         0., 0., 0., 0., 0., 0., 0., 0., 0., 0., 0., 0., 0., 0., 0., 0., 0.,\n",
       "         0., 0., 0., 0., 0., 0., 0., 0., 0., 0., 0., 0., 0., 0., 0., 0., 0.,\n",
       "         0., 0., 0., 0., 0., 0., 0., 0., 0., 0., 0., 0., 0., 0., 0., 0., 0.,\n",
       "         0., 0., 0., 0., 0., 0., 0., 0., 0., 0., 0., 0., 0., 0., 0., 0., 0.,\n",
       "         0., 0., 0., 0., 0., 0., 0., 0., 0., 0., 0., 0., 0., 0., 0.]),\n",
       "  0.5: array([0., 0., 0., 0., 0., 0., 0., 0., 0., 0., 0., 0., 0., 0., 0., 0., 0.,\n",
       "         0., 0., 0., 0., 0., 0., 0., 0., 0., 0., 0., 0., 0., 0., 0., 0., 0.,\n",
       "         0., 0., 0., 0., 0., 0., 0., 0., 0., 0., 0., 0., 0., 0., 0., 0., 0.,\n",
       "         0., 0., 0., 0., 0., 0., 0., 0., 0., 0., 0., 0., 0., 0., 0., 0., 0.,\n",
       "         0., 0., 0., 0., 0., 0., 0., 0., 0., 0., 0., 0., 0., 0., 0., 0., 0.,\n",
       "         0., 0., 0., 0., 0., 0., 0., 0., 0., 0., 0., 0., 0., 0., 0.]),\n",
       "  0.6000000000000001: array([0., 0., 0., 0., 0., 0., 0., 0., 0., 0., 0., 0., 0., 0., 0., 0., 0.,\n",
       "         0., 0., 0., 0., 0., 0., 0., 0., 0., 0., 0., 0., 0., 0., 0., 0., 0.,\n",
       "         0., 0., 0., 0., 0., 0., 0., 0., 0., 0., 0., 0., 0., 0., 0., 0., 0.,\n",
       "         0., 0., 0., 0., 0., 0., 0., 0., 0., 0., 0., 0., 0., 0., 0., 0., 0.,\n",
       "         0., 0., 0., 0., 0., 0., 0., 0., 0., 0., 0., 0., 0., 0., 0., 0., 0.,\n",
       "         0., 0., 0., 0., 0., 0., 0., 0., 0., 0., 0., 0., 0., 0., 0.]),\n",
       "  0.7000000000000001: array([0., 0., 0., 0., 0., 0., 0., 0., 0., 0., 0., 0., 0., 0., 0., 0., 0.,\n",
       "         0., 0., 0., 0., 0., 0., 0., 0., 0., 0., 0., 0., 0., 0., 0., 0., 0.,\n",
       "         0., 0., 0., 0., 0., 0., 0., 0., 0., 0., 0., 0., 0., 0., 0., 0., 0.,\n",
       "         0., 0., 0., 0., 0., 0., 0., 0., 0., 0., 0., 0., 0., 0., 0., 0., 0.,\n",
       "         0., 0., 0., 0., 0., 0., 0., 0., 0., 0., 0., 0., 0., 0., 0., 0., 0.,\n",
       "         0., 0., 0., 0., 0., 0., 0., 0., 0., 0., 0., 0., 0., 0., 0.]),\n",
       "  0.8: array([0., 0., 0., 0., 0., 0., 0., 0., 0., 0., 0., 0., 0., 0., 0., 0., 0.,\n",
       "         0., 0., 0., 0., 0., 0., 0., 0., 0., 0., 0., 0., 0., 0., 0., 0., 0.,\n",
       "         0., 0., 0., 0., 0., 0., 0., 0., 0., 0., 0., 0., 0., 0., 0., 0., 0.,\n",
       "         0., 0., 0., 0., 0., 0., 0., 0., 0., 0., 0., 0., 0., 0., 0., 0., 0.,\n",
       "         0., 0., 0., 0., 0., 0., 0., 0., 0., 0., 0., 0., 0., 0., 0., 0., 0.,\n",
       "         0., 0., 0., 0., 0., 0., 0., 0., 0., 0., 0., 0., 0., 0., 0.]),\n",
       "  0.9: array([0., 0., 0., 0., 0., 0., 0., 0., 0., 0., 0., 0., 0., 0., 0., 0., 0.,\n",
       "         0., 0., 0., 0., 0., 0., 0., 0., 0., 0., 0., 0., 0., 0., 0., 0., 0.,\n",
       "         0., 0., 0., 0., 0., 0., 0., 0., 0., 0., 0., 0., 0., 0., 0., 0., 0.,\n",
       "         0., 0., 0., 0., 0., 0., 0., 0., 0., 0., 0., 0., 0., 0., 0., 0., 0.,\n",
       "         0., 0., 0., 0., 0., 0., 0., 0., 0., 0., 0., 0., 0., 0., 0., 0., 0.,\n",
       "         0., 0., 0., 0., 0., 0., 0., 0., 0., 0., 0., 0., 0., 0., 0.]),\n",
       "  1.0: array([0., 0., 0., 0., 0., 0., 0., 0., 0., 0., 0., 0., 0., 0., 0., 0., 0.,\n",
       "         0., 0., 0., 0., 0., 0., 0., 0., 0., 0., 0., 0., 0., 0., 0., 0., 0.,\n",
       "         0., 0., 0., 0., 0., 0., 0., 0., 0., 0., 0., 0., 0., 0., 0., 0., 0.,\n",
       "         0., 0., 0., 0., 0., 0., 0., 0., 0., 0., 0., 0., 0., 0., 0., 0., 0.,\n",
       "         0., 0., 0., 0., 0., 0., 0., 0., 0., 0., 0., 0., 0., 0., 0., 0., 0.,\n",
       "         0., 0., 0., 0., 0., 0., 0., 0., 0., 0., 0., 0., 0., 0., 0.]),\n",
       "  1.1: array([0., 0., 0., 0., 0., 0., 0., 0., 0., 0., 0., 0., 0., 0., 0., 0., 0.,\n",
       "         0., 0., 0., 0., 0., 0., 0., 0., 0., 0., 0., 0., 0., 0., 0., 0., 0.,\n",
       "         0., 0., 0., 0., 0., 0., 0., 0., 0., 0., 0., 0., 0., 0., 0., 0., 0.,\n",
       "         0., 0., 0., 0., 0., 0., 0., 0., 0., 0., 0., 0., 0., 0., 0., 0., 0.,\n",
       "         0., 0., 0., 0., 0., 0., 0., 0., 0., 0., 0., 0., 0., 0., 0., 0., 0.,\n",
       "         0., 0., 0., 0., 0., 0., 0., 0., 0., 0., 0., 0., 0., 0., 0.])}}"
      ]
     },
     "execution_count": 53,
     "metadata": {},
     "output_type": "execute_result"
    }
   ],
   "source": [
    "stock_paths"
   ]
  }
 ],
 "metadata": {
  "kernelspec": {
   "display_name": "base",
   "language": "python",
   "name": "python3"
  },
  "language_info": {
   "codemirror_mode": {
    "name": "ipython",
    "version": 3
   },
   "file_extension": ".py",
   "mimetype": "text/x-python",
   "name": "python",
   "nbconvert_exporter": "python",
   "pygments_lexer": "ipython3",
   "version": "3.9.13"
  }
 },
 "nbformat": 4,
 "nbformat_minor": 2
}
