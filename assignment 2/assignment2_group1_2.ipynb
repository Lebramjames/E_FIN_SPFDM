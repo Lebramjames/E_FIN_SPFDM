{
 "cells": [
  {
   "cell_type": "code",
   "execution_count": 18,
   "metadata": {},
   "outputs": [],
   "source": [
    "from  scipy.stats  import norm\n",
    "import numpy as np\n",
    "import seaborn as sns\n",
    "import matplotlib.pyplot as plt\n",
    "import pandas as pd\n",
    "# pip install pysabr\n",
    "import pysabr\n",
    "\n",
    "from sources.plotter import Plotter\n",
    "from sources.hestonmodelsimulation import HestonModelAssetSimulation\n",
    "from sources.sabrmodelsimulation import SABR_model_simulation\n",
    "from sources.blackscholesmodel import BlackScholes\n",
    "\n",
    "Plotter = Plotter()\n",
    "BlackScholes = BlackScholes()"
   ]
  },
  {
   "cell_type": "markdown",
   "metadata": {},
   "source": [
    "## 2.1 SV models"
   ]
  },
  {
   "cell_type": "markdown",
   "metadata": {},
   "source": [
    "Exercise 10 (Stochastic volatility). Choose one of the models, Heston or\n",
    "SABR. Simulate the paths to maturity T = 1 year.\n",
    "1. Plot a single path and look if you can observe a volatility clustering.\n",
    "2. Plot histograms of log-returns and compare them to the normal distribution with the same mean and variance. Observe the skewness and fat\n",
    "tails."
   ]
  },
  {
   "cell_type": "markdown",
   "metadata": {},
   "source": [
    "Heston model describes a model where the evolution of a the volatility of an underlyin g essat is NOT constant, nor even deterministic, but follows a random process. \n",
    "\n"
   ]
  },
  {
   "cell_type": "markdown",
   "metadata": {},
   "source": [
    "### 2.1 SV models: Heston and SABR"
   ]
  },
  {
   "cell_type": "code",
   "execution_count": 21,
   "metadata": {},
   "outputs": [],
   "source": [
    "# Number of simulations:\n",
    "M = 1000\n",
    "\n",
    "# Number of days (years)\n",
    "T = 1 \n",
    "n_steps = 252\n",
    "\n",
    "# Heston Model: \n",
    "S0 = 1.0\n",
    "rf_rate = 0\n",
    "variance_0 = 0.2**2\n",
    "theta = variance_0\n",
    "correlation = -0.7\n",
    "kappa = 3\n",
    "sigma = 0.6\n",
    "\n",
    "HestonModel = HestonModelAssetSimulation(rf_rate=rf_rate)\n",
    "S, v = HestonModel.heston_model_sim(S0= S0, v0=variance_0,rho=correlation, kappa = kappa, theta = theta, sigma = sigma, T=T, N=n_steps, M=M)\n",
    "\n",
    "# SABR model:\n",
    "# Settings:\n",
    "F0 = 1.0\n",
    "r = 0.0\n",
    "sigma0 = 0.2\n",
    "beta = 1\n",
    "rho = -0.7\n",
    "alpha = 0.5\n",
    "\n",
    "SABR_model = SABR_model_simulation()\n",
    "F, sigma = SABR_model.sabr_model_sim(F0, sigma0, rho, beta, alpha, T, n_steps, M)\n",
    "# Plotter.plot_2curves(S, F, sigma, v)"
   ]
  },
  {
   "cell_type": "markdown",
   "metadata": {},
   "source": [
    "### 2.1: SV model: log returns"
   ]
  },
  {
   "cell_type": "code",
   "execution_count": 20,
   "metadata": {},
   "outputs": [],
   "source": [
    "def calc_logreturns(data):\n",
    "    log_returns = np.log(data[1:] / data[:-1])\n",
    "    return log_returns\n",
    "\n",
    "# Calculate log returns for Heston and SABR models\n",
    "heston_logreturns = np.empty_like(S)\n",
    "sabr_logreturns = np.empty_like(F)\n",
    "\n",
    "for i in range(S.shape[1]):\n",
    "    heston_logreturns[:-1, i] = calc_logreturns(S[:, i])\n",
    "    sabr_logreturns[:-1, i] = calc_logreturns(F[:, i])\n",
    "\n",
    "# Plotter.plot_hist(heston_logreturns, sabr_logreturns)\n",
    "# Plotter.plot_2logcurves(heston_logreturns, sabr_logreturns,0)"
   ]
  },
  {
   "cell_type": "markdown",
   "metadata": {},
   "source": [
    "## 2.2 SV models:  Option prices and implied volatilities for SABR model.\n",
    "Consider European calls and puts on the underlying that follows your SABR process.\n",
    "Compute ATM, +/-10 % and +/- 25% ITM and OTM European call and put prices\n",
    "using Monte Carlo simulations code from the previous exercise for SABR. Compute\n",
    "these prices also using the regular Black-Scholes formula. Think of what would be a\n",
    "realistic way of providing the volatility in Black-Scholes formula, to facilitate a fair\n",
    "comparison between SABR and BS (i.e., how would you do this in practice). "
   ]
  },
  {
   "cell_type": "code",
   "execution_count": 200,
   "metadata": {},
   "outputs": [],
   "source": [
    "F0 = 1.0\n",
    "r = 0.0\n",
    "sigma0 = 0.2\n",
    "beta = 1\n",
    "rho = -0.7\n",
    "alpha = 0.5\n",
    "\n",
    "SABR_model = SABR_model_simulation()\n",
    "F, sigma = SABR_model.sabr_model_sim(F0, sigma0, rho, beta, alpha, T, n_steps, M)"
   ]
  },
  {
   "cell_type": "code",
   "execution_count": 201,
   "metadata": {},
   "outputs": [],
   "source": [
    "BlackScholes.calc_blackscholes()"
   ]
  },
  {
   "cell_type": "code",
   "execution_count": null,
   "metadata": {},
   "outputs": [],
   "source": []
  },
  {
   "cell_type": "code",
   "execution_count": 177,
   "metadata": {},
   "outputs": [
    {
     "data": {
      "text/plain": [
       "(253, 1000)"
      ]
     },
     "execution_count": 177,
     "metadata": {},
     "output_type": "execute_result"
    }
   ],
   "source": [
    "# 2.2 Option prices and implied volatilities for SABR model. \n",
    "\n",
    "pysabr.Hagan2002LognormalSABR()\n"
   ]
  }
 ],
 "metadata": {
  "kernelspec": {
   "display_name": "base",
   "language": "python",
   "name": "python3"
  },
  "language_info": {
   "codemirror_mode": {
    "name": "ipython",
    "version": 3
   },
   "file_extension": ".py",
   "mimetype": "text/x-python",
   "name": "python",
   "nbconvert_exporter": "python",
   "pygments_lexer": "ipython3",
   "version": "3.9.13"
  }
 },
 "nbformat": 4,
 "nbformat_minor": 2
}
